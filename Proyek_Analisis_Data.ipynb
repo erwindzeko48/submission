{
 "cells": [
  {
   "cell_type": "markdown",
   "metadata": {
    "id": "H9wADwK78DCz"
   },
   "source": [
    "# Proyek Analisis Data: [Bike Sharing Dataset]\n",
    "- **Nama:** [Erwin Saputra]\n",
    "- **Email:** [erwindzeko48@gmail.com]\n",
    "- **ID Dicoding:** [erwin_saputra_3DZz]"
   ]
  },
  {
   "cell_type": "markdown",
   "metadata": {
    "id": "eE0raob58DC0"
   },
   "source": [
    "## Menentukan Pertanyaan Bisnis"
   ]
  },
  {
   "cell_type": "markdown",
   "metadata": {
    "id": "GmQeQ5YF8DC0"
   },
   "source": [
    "- Bagaimana tingkat penyewaan sepeda dalam beberapa bulan terakhir?\n",
    "- Kapan penyewaan sepeda paling banyak dan paling sedikit disewa oleh pengguna?"
   ]
  },
  {
   "cell_type": "markdown",
   "metadata": {
    "id": "H-z4QGlO8DC1"
   },
   "source": [
    "## Import Semua Packages/Library yang Digunakan"
   ]
  },
  {
   "cell_type": "code",
   "execution_count": null,
   "metadata": {
    "id": "FVYwaObI8DC1"
   },
   "outputs": [],
   "source": [
    "import numpy as np\n",
    "import pandas as pd\n",
    "import matplotlib.pyplot as plt\n",
    "import seaborn as sns"
   ]
  },
  {
   "cell_type": "markdown",
   "metadata": {
    "id": "h_Sh51Xy8DC1"
   },
   "source": [
    "## Data Wrangling"
   ]
  },
  {
   "cell_type": "markdown",
   "metadata": {
    "id": "sXU2GBYu8DC1"
   },
   "source": [
    "### Gathering Data"
   ]
  },
  {
   "cell_type": "code",
   "execution_count": null,
   "metadata": {
    "id": "zjCBk1BI8DC1"
   },
   "outputs": [
    {
     "data": {
      "text/html": [
       "<div>\n",
       "<style scoped>\n",
       "    .dataframe tbody tr th:only-of-type {\n",
       "        vertical-align: middle;\n",
       "    }\n",
       "\n",
       "    .dataframe tbody tr th {\n",
       "        vertical-align: top;\n",
       "    }\n",
       "\n",
       "    .dataframe thead th {\n",
       "        text-align: right;\n",
       "    }\n",
       "</style>\n",
       "<table border=\"1\" class=\"dataframe\">\n",
       "  <thead>\n",
       "    <tr style=\"text-align: right;\">\n",
       "      <th></th>\n",
       "      <th>instant</th>\n",
       "      <th>dteday</th>\n",
       "      <th>season</th>\n",
       "      <th>yr</th>\n",
       "      <th>mnth</th>\n",
       "      <th>hr</th>\n",
       "      <th>holiday</th>\n",
       "      <th>weekday</th>\n",
       "      <th>workingday</th>\n",
       "      <th>weathersit</th>\n",
       "      <th>temp</th>\n",
       "      <th>atemp</th>\n",
       "      <th>hum</th>\n",
       "      <th>windspeed</th>\n",
       "      <th>casual</th>\n",
       "      <th>registered</th>\n",
       "      <th>cnt</th>\n",
       "    </tr>\n",
       "  </thead>\n",
       "  <tbody>\n",
       "    <tr>\n",
       "      <th>0</th>\n",
       "      <td>1</td>\n",
       "      <td>2011-01-01</td>\n",
       "      <td>1</td>\n",
       "      <td>0</td>\n",
       "      <td>1</td>\n",
       "      <td>0</td>\n",
       "      <td>0</td>\n",
       "      <td>6</td>\n",
       "      <td>0</td>\n",
       "      <td>1</td>\n",
       "      <td>0.24</td>\n",
       "      <td>0.2879</td>\n",
       "      <td>0.81</td>\n",
       "      <td>0.0</td>\n",
       "      <td>3</td>\n",
       "      <td>13</td>\n",
       "      <td>16</td>\n",
       "    </tr>\n",
       "    <tr>\n",
       "      <th>1</th>\n",
       "      <td>2</td>\n",
       "      <td>2011-01-01</td>\n",
       "      <td>1</td>\n",
       "      <td>0</td>\n",
       "      <td>1</td>\n",
       "      <td>1</td>\n",
       "      <td>0</td>\n",
       "      <td>6</td>\n",
       "      <td>0</td>\n",
       "      <td>1</td>\n",
       "      <td>0.22</td>\n",
       "      <td>0.2727</td>\n",
       "      <td>0.80</td>\n",
       "      <td>0.0</td>\n",
       "      <td>8</td>\n",
       "      <td>32</td>\n",
       "      <td>40</td>\n",
       "    </tr>\n",
       "    <tr>\n",
       "      <th>2</th>\n",
       "      <td>3</td>\n",
       "      <td>2011-01-01</td>\n",
       "      <td>1</td>\n",
       "      <td>0</td>\n",
       "      <td>1</td>\n",
       "      <td>2</td>\n",
       "      <td>0</td>\n",
       "      <td>6</td>\n",
       "      <td>0</td>\n",
       "      <td>1</td>\n",
       "      <td>0.22</td>\n",
       "      <td>0.2727</td>\n",
       "      <td>0.80</td>\n",
       "      <td>0.0</td>\n",
       "      <td>5</td>\n",
       "      <td>27</td>\n",
       "      <td>32</td>\n",
       "    </tr>\n",
       "    <tr>\n",
       "      <th>3</th>\n",
       "      <td>4</td>\n",
       "      <td>2011-01-01</td>\n",
       "      <td>1</td>\n",
       "      <td>0</td>\n",
       "      <td>1</td>\n",
       "      <td>3</td>\n",
       "      <td>0</td>\n",
       "      <td>6</td>\n",
       "      <td>0</td>\n",
       "      <td>1</td>\n",
       "      <td>0.24</td>\n",
       "      <td>0.2879</td>\n",
       "      <td>0.75</td>\n",
       "      <td>0.0</td>\n",
       "      <td>3</td>\n",
       "      <td>10</td>\n",
       "      <td>13</td>\n",
       "    </tr>\n",
       "    <tr>\n",
       "      <th>4</th>\n",
       "      <td>5</td>\n",
       "      <td>2011-01-01</td>\n",
       "      <td>1</td>\n",
       "      <td>0</td>\n",
       "      <td>1</td>\n",
       "      <td>4</td>\n",
       "      <td>0</td>\n",
       "      <td>6</td>\n",
       "      <td>0</td>\n",
       "      <td>1</td>\n",
       "      <td>0.24</td>\n",
       "      <td>0.2879</td>\n",
       "      <td>0.75</td>\n",
       "      <td>0.0</td>\n",
       "      <td>0</td>\n",
       "      <td>1</td>\n",
       "      <td>1</td>\n",
       "    </tr>\n",
       "  </tbody>\n",
       "</table>\n",
       "</div>"
      ],
      "text/plain": [
       "   instant      dteday  season  yr  mnth  hr  holiday  weekday  workingday  \\\n",
       "0        1  2011-01-01       1   0     1   0        0        6           0   \n",
       "1        2  2011-01-01       1   0     1   1        0        6           0   \n",
       "2        3  2011-01-01       1   0     1   2        0        6           0   \n",
       "3        4  2011-01-01       1   0     1   3        0        6           0   \n",
       "4        5  2011-01-01       1   0     1   4        0        6           0   \n",
       "\n",
       "   weathersit  temp   atemp   hum  windspeed  casual  registered  cnt  \n",
       "0           1  0.24  0.2879  0.81        0.0       3          13   16  \n",
       "1           1  0.22  0.2727  0.80        0.0       8          32   40  \n",
       "2           1  0.22  0.2727  0.80        0.0       5          27   32  \n",
       "3           1  0.24  0.2879  0.75        0.0       3          10   13  \n",
       "4           1  0.24  0.2879  0.75        0.0       0           1    1  "
      ]
     },
     "execution_count": 56,
     "metadata": {},
     "output_type": "execute_result"
    }
   ],
   "source": [
    "hour = pd.read_csv('data/hour.csv')\n",
    "hour.head()\n"
   ]
  },
  {
   "cell_type": "markdown",
   "metadata": {},
   "source": [
    "IMPORT DATA PENYEWAAN SEPEDA PER JAM  DARI FILE CSV  & MENAMPILKAN 5 DATA TERATAS"
   ]
  },
  {
   "cell_type": "code",
   "execution_count": null,
   "metadata": {},
   "outputs": [
    {
     "data": {
      "text/html": [
       "<div>\n",
       "<style scoped>\n",
       "    .dataframe tbody tr th:only-of-type {\n",
       "        vertical-align: middle;\n",
       "    }\n",
       "\n",
       "    .dataframe tbody tr th {\n",
       "        vertical-align: top;\n",
       "    }\n",
       "\n",
       "    .dataframe thead th {\n",
       "        text-align: right;\n",
       "    }\n",
       "</style>\n",
       "<table border=\"1\" class=\"dataframe\">\n",
       "  <thead>\n",
       "    <tr style=\"text-align: right;\">\n",
       "      <th></th>\n",
       "      <th>instant</th>\n",
       "      <th>dteday</th>\n",
       "      <th>season</th>\n",
       "      <th>yr</th>\n",
       "      <th>mnth</th>\n",
       "      <th>holiday</th>\n",
       "      <th>weekday</th>\n",
       "      <th>workingday</th>\n",
       "      <th>weathersit</th>\n",
       "      <th>temp</th>\n",
       "      <th>atemp</th>\n",
       "      <th>hum</th>\n",
       "      <th>windspeed</th>\n",
       "      <th>casual</th>\n",
       "      <th>registered</th>\n",
       "      <th>cnt</th>\n",
       "    </tr>\n",
       "  </thead>\n",
       "  <tbody>\n",
       "    <tr>\n",
       "      <th>0</th>\n",
       "      <td>1</td>\n",
       "      <td>2011-01-01</td>\n",
       "      <td>1</td>\n",
       "      <td>0</td>\n",
       "      <td>1</td>\n",
       "      <td>0</td>\n",
       "      <td>6</td>\n",
       "      <td>0</td>\n",
       "      <td>2</td>\n",
       "      <td>0.344167</td>\n",
       "      <td>0.363625</td>\n",
       "      <td>0.805833</td>\n",
       "      <td>0.160446</td>\n",
       "      <td>331</td>\n",
       "      <td>654</td>\n",
       "      <td>985</td>\n",
       "    </tr>\n",
       "    <tr>\n",
       "      <th>1</th>\n",
       "      <td>2</td>\n",
       "      <td>2011-01-02</td>\n",
       "      <td>1</td>\n",
       "      <td>0</td>\n",
       "      <td>1</td>\n",
       "      <td>0</td>\n",
       "      <td>0</td>\n",
       "      <td>0</td>\n",
       "      <td>2</td>\n",
       "      <td>0.363478</td>\n",
       "      <td>0.353739</td>\n",
       "      <td>0.696087</td>\n",
       "      <td>0.248539</td>\n",
       "      <td>131</td>\n",
       "      <td>670</td>\n",
       "      <td>801</td>\n",
       "    </tr>\n",
       "    <tr>\n",
       "      <th>2</th>\n",
       "      <td>3</td>\n",
       "      <td>2011-01-03</td>\n",
       "      <td>1</td>\n",
       "      <td>0</td>\n",
       "      <td>1</td>\n",
       "      <td>0</td>\n",
       "      <td>1</td>\n",
       "      <td>1</td>\n",
       "      <td>1</td>\n",
       "      <td>0.196364</td>\n",
       "      <td>0.189405</td>\n",
       "      <td>0.437273</td>\n",
       "      <td>0.248309</td>\n",
       "      <td>120</td>\n",
       "      <td>1229</td>\n",
       "      <td>1349</td>\n",
       "    </tr>\n",
       "    <tr>\n",
       "      <th>3</th>\n",
       "      <td>4</td>\n",
       "      <td>2011-01-04</td>\n",
       "      <td>1</td>\n",
       "      <td>0</td>\n",
       "      <td>1</td>\n",
       "      <td>0</td>\n",
       "      <td>2</td>\n",
       "      <td>1</td>\n",
       "      <td>1</td>\n",
       "      <td>0.200000</td>\n",
       "      <td>0.212122</td>\n",
       "      <td>0.590435</td>\n",
       "      <td>0.160296</td>\n",
       "      <td>108</td>\n",
       "      <td>1454</td>\n",
       "      <td>1562</td>\n",
       "    </tr>\n",
       "    <tr>\n",
       "      <th>4</th>\n",
       "      <td>5</td>\n",
       "      <td>2011-01-05</td>\n",
       "      <td>1</td>\n",
       "      <td>0</td>\n",
       "      <td>1</td>\n",
       "      <td>0</td>\n",
       "      <td>3</td>\n",
       "      <td>1</td>\n",
       "      <td>1</td>\n",
       "      <td>0.226957</td>\n",
       "      <td>0.229270</td>\n",
       "      <td>0.436957</td>\n",
       "      <td>0.186900</td>\n",
       "      <td>82</td>\n",
       "      <td>1518</td>\n",
       "      <td>1600</td>\n",
       "    </tr>\n",
       "  </tbody>\n",
       "</table>\n",
       "</div>"
      ],
      "text/plain": [
       "   instant      dteday  season  yr  mnth  holiday  weekday  workingday  \\\n",
       "0        1  2011-01-01       1   0     1        0        6           0   \n",
       "1        2  2011-01-02       1   0     1        0        0           0   \n",
       "2        3  2011-01-03       1   0     1        0        1           1   \n",
       "3        4  2011-01-04       1   0     1        0        2           1   \n",
       "4        5  2011-01-05       1   0     1        0        3           1   \n",
       "\n",
       "   weathersit      temp     atemp       hum  windspeed  casual  registered  \\\n",
       "0           2  0.344167  0.363625  0.805833   0.160446     331         654   \n",
       "1           2  0.363478  0.353739  0.696087   0.248539     131         670   \n",
       "2           1  0.196364  0.189405  0.437273   0.248309     120        1229   \n",
       "3           1  0.200000  0.212122  0.590435   0.160296     108        1454   \n",
       "4           1  0.226957  0.229270  0.436957   0.186900      82        1518   \n",
       "\n",
       "    cnt  \n",
       "0   985  \n",
       "1   801  \n",
       "2  1349  \n",
       "3  1562  \n",
       "4  1600  "
      ]
     },
     "execution_count": 57,
     "metadata": {},
     "output_type": "execute_result"
    }
   ],
   "source": [
    "day = pd.read_csv('Bike-sharing-dataset/day.csv')\n",
    "day.head()"
   ]
  },
  {
   "cell_type": "markdown",
   "metadata": {},
   "source": [
    "IMPORT DATA PENYEWAAN SEPEDA PER HARI  DARI FILE CSV  & MENAMPILKAN 5 DATA TERATAS"
   ]
  },
  {
   "cell_type": "markdown",
   "metadata": {
    "id": "MMi6xGaDkbCi"
   },
   "source": [
    "**Insight:**\n",
    "- Mengetahui bagaimana tingkat penyewaan sepeda dalam beberapa bulan terakhir\n",
    "- Mengetahui kapan waktu penyewaan terbanyak dilihat dari musim, bulan, jam, hari libur/tidak, cuaca, suhu, kelembapan, kecepatan angin, dan tipe pengguna"
   ]
  },
  {
   "cell_type": "markdown",
   "metadata": {
    "id": "FHSiqaZp8DC1"
   },
   "source": [
    "### Assessing Data"
   ]
  },
  {
   "cell_type": "code",
   "execution_count": null,
   "metadata": {},
   "outputs": [
    {
     "name": "stdout",
     "output_type": "stream",
     "text": [
      "<class 'pandas.core.frame.DataFrame'>\n",
      "RangeIndex: 17379 entries, 0 to 17378\n",
      "Data columns (total 17 columns):\n",
      " #   Column      Non-Null Count  Dtype  \n",
      "---  ------      --------------  -----  \n",
      " 0   instant     17379 non-null  int64  \n",
      " 1   dteday      17379 non-null  object \n",
      " 2   season      17379 non-null  int64  \n",
      " 3   yr          17379 non-null  int64  \n",
      " 4   mnth        17379 non-null  int64  \n",
      " 5   hr          17379 non-null  int64  \n",
      " 6   holiday     17379 non-null  int64  \n",
      " 7   weekday     17379 non-null  int64  \n",
      " 8   workingday  17379 non-null  int64  \n",
      " 9   weathersit  17379 non-null  int64  \n",
      " 10  temp        17379 non-null  float64\n",
      " 11  atemp       17379 non-null  float64\n",
      " 12  hum         17379 non-null  float64\n",
      " 13  windspeed   17379 non-null  float64\n",
      " 14  casual      17379 non-null  int64  \n",
      " 15  registered  17379 non-null  int64  \n",
      " 16  cnt         17379 non-null  int64  \n",
      "dtypes: float64(4), int64(12), object(1)\n",
      "memory usage: 2.3+ MB\n"
     ]
    }
   ],
   "source": [
    "hour.info()"
   ]
  },
  {
   "cell_type": "markdown",
   "metadata": {},
   "source": [
    "MELIHAT NAMA VARIABEL DAN TIPE DATA DARI DATA PER JAM, VARIABEL DTEDAY MASIH BERTIPE OBJEK HARUSNYA DATE TIME"
   ]
  },
  {
   "cell_type": "code",
   "execution_count": null,
   "metadata": {},
   "outputs": [
    {
     "name": "stdout",
     "output_type": "stream",
     "text": [
      "<class 'pandas.core.frame.DataFrame'>\n",
      "RangeIndex: 731 entries, 0 to 730\n",
      "Data columns (total 16 columns):\n",
      " #   Column      Non-Null Count  Dtype  \n",
      "---  ------      --------------  -----  \n",
      " 0   instant     731 non-null    int64  \n",
      " 1   dteday      731 non-null    object \n",
      " 2   season      731 non-null    int64  \n",
      " 3   yr          731 non-null    int64  \n",
      " 4   mnth        731 non-null    int64  \n",
      " 5   holiday     731 non-null    int64  \n",
      " 6   weekday     731 non-null    int64  \n",
      " 7   workingday  731 non-null    int64  \n",
      " 8   weathersit  731 non-null    int64  \n",
      " 9   temp        731 non-null    float64\n",
      " 10  atemp       731 non-null    float64\n",
      " 11  hum         731 non-null    float64\n",
      " 12  windspeed   731 non-null    float64\n",
      " 13  casual      731 non-null    int64  \n",
      " 14  registered  731 non-null    int64  \n",
      " 15  cnt         731 non-null    int64  \n",
      "dtypes: float64(4), int64(11), object(1)\n",
      "memory usage: 91.5+ KB\n"
     ]
    }
   ],
   "source": [
    "day.info()"
   ]
  },
  {
   "cell_type": "markdown",
   "metadata": {},
   "source": [
    "MELIHAT NAMA VARIABEL DAN TIPE DATA DARI DATA PER HARI, DTEDAY MASIH BERTIPE OBJEK HARUSNYA DATE TIME"
   ]
  },
  {
   "cell_type": "code",
   "execution_count": null,
   "metadata": {
    "id": "ax-3tEjc9Cj1"
   },
   "outputs": [
    {
     "data": {
      "text/plain": [
       "instant       0\n",
       "dteday        0\n",
       "season        0\n",
       "yr            0\n",
       "mnth          0\n",
       "hr            0\n",
       "holiday       0\n",
       "weekday       0\n",
       "workingday    0\n",
       "weathersit    0\n",
       "temp          0\n",
       "atemp         0\n",
       "hum           0\n",
       "windspeed     0\n",
       "casual        0\n",
       "registered    0\n",
       "cnt           0\n",
       "dtype: int64"
      ]
     },
     "execution_count": 60,
     "metadata": {},
     "output_type": "execute_result"
    }
   ],
   "source": [
    "hour.isnull().sum()"
   ]
  },
  {
   "cell_type": "markdown",
   "metadata": {},
   "source": [
    "MENGECEK BANYAKNYA MISSING VALUE PADA DATA PENYEWAAN PER JAM. DATA PENYEWAAN PER JAM TIDAK MEMILIKI MISSING VALUE"
   ]
  },
  {
   "cell_type": "code",
   "execution_count": null,
   "metadata": {},
   "outputs": [
    {
     "data": {
      "text/plain": [
       "instant       0\n",
       "dteday        0\n",
       "season        0\n",
       "yr            0\n",
       "mnth          0\n",
       "holiday       0\n",
       "weekday       0\n",
       "workingday    0\n",
       "weathersit    0\n",
       "temp          0\n",
       "atemp         0\n",
       "hum           0\n",
       "windspeed     0\n",
       "casual        0\n",
       "registered    0\n",
       "cnt           0\n",
       "dtype: int64"
      ]
     },
     "execution_count": 61,
     "metadata": {},
     "output_type": "execute_result"
    }
   ],
   "source": [
    "day.isnull().sum()"
   ]
  },
  {
   "cell_type": "markdown",
   "metadata": {},
   "source": [
    "MENGECEK BANYAKNYA MISSING VALUE PADA DATA PENYEWAAN PER HARI. DATA PENYEWAAN PER HARI TIDAK MEMILIKI MISSING VALUE"
   ]
  },
  {
   "cell_type": "code",
   "execution_count": null,
   "metadata": {},
   "outputs": [
    {
     "name": "stdout",
     "output_type": "stream",
     "text": [
      "Jumlah duplikasi:  0\n"
     ]
    }
   ],
   "source": [
    "print(\"Jumlah duplikasi: \",hour.duplicated().sum())"
   ]
  },
  {
   "cell_type": "markdown",
   "metadata": {},
   "source": [
    "MENGECEK DATA DUPLIKAT PADA DATA PENYEWAAN PERJAM. DATA PENYEWAAN PER JAM TIDAK ADA YANG DUPLIKAT"
   ]
  },
  {
   "cell_type": "code",
   "execution_count": null,
   "metadata": {},
   "outputs": [
    {
     "name": "stdout",
     "output_type": "stream",
     "text": [
      "Jumlah duplikasi:  0\n"
     ]
    }
   ],
   "source": [
    "print(\"Jumlah duplikasi: \",day.duplicated().sum())"
   ]
  },
  {
   "cell_type": "markdown",
   "metadata": {},
   "source": [
    "MENGECEK DATA DUPLIKAT PADA DATA PENYEWAAN PER HARI. DATA PENYEWAAN PER HARI TIDAK ADA YANG DUPLIKAT"
   ]
  },
  {
   "cell_type": "code",
   "execution_count": null,
   "metadata": {},
   "outputs": [
    {
     "data": {
      "text/html": [
       "<div>\n",
       "<style scoped>\n",
       "    .dataframe tbody tr th:only-of-type {\n",
       "        vertical-align: middle;\n",
       "    }\n",
       "\n",
       "    .dataframe tbody tr th {\n",
       "        vertical-align: top;\n",
       "    }\n",
       "\n",
       "    .dataframe thead th {\n",
       "        text-align: right;\n",
       "    }\n",
       "</style>\n",
       "<table border=\"1\" class=\"dataframe\">\n",
       "  <thead>\n",
       "    <tr style=\"text-align: right;\">\n",
       "      <th></th>\n",
       "      <th>instant</th>\n",
       "      <th>season</th>\n",
       "      <th>yr</th>\n",
       "      <th>mnth</th>\n",
       "      <th>hr</th>\n",
       "      <th>holiday</th>\n",
       "      <th>weekday</th>\n",
       "      <th>workingday</th>\n",
       "      <th>weathersit</th>\n",
       "      <th>temp</th>\n",
       "      <th>atemp</th>\n",
       "      <th>hum</th>\n",
       "      <th>windspeed</th>\n",
       "      <th>casual</th>\n",
       "      <th>registered</th>\n",
       "      <th>cnt</th>\n",
       "    </tr>\n",
       "  </thead>\n",
       "  <tbody>\n",
       "    <tr>\n",
       "      <th>count</th>\n",
       "      <td>17379.0000</td>\n",
       "      <td>17379.000000</td>\n",
       "      <td>17379.000000</td>\n",
       "      <td>17379.000000</td>\n",
       "      <td>17379.000000</td>\n",
       "      <td>17379.000000</td>\n",
       "      <td>17379.000000</td>\n",
       "      <td>17379.000000</td>\n",
       "      <td>17379.000000</td>\n",
       "      <td>17379.000000</td>\n",
       "      <td>17379.000000</td>\n",
       "      <td>17379.000000</td>\n",
       "      <td>17379.000000</td>\n",
       "      <td>17379.000000</td>\n",
       "      <td>17379.000000</td>\n",
       "      <td>17379.000000</td>\n",
       "    </tr>\n",
       "    <tr>\n",
       "      <th>mean</th>\n",
       "      <td>8690.0000</td>\n",
       "      <td>2.501640</td>\n",
       "      <td>0.502561</td>\n",
       "      <td>6.537775</td>\n",
       "      <td>11.546752</td>\n",
       "      <td>0.028770</td>\n",
       "      <td>3.003683</td>\n",
       "      <td>0.682721</td>\n",
       "      <td>1.425283</td>\n",
       "      <td>0.496987</td>\n",
       "      <td>0.475775</td>\n",
       "      <td>0.627229</td>\n",
       "      <td>0.190098</td>\n",
       "      <td>35.676218</td>\n",
       "      <td>153.786869</td>\n",
       "      <td>189.463088</td>\n",
       "    </tr>\n",
       "    <tr>\n",
       "      <th>std</th>\n",
       "      <td>5017.0295</td>\n",
       "      <td>1.106918</td>\n",
       "      <td>0.500008</td>\n",
       "      <td>3.438776</td>\n",
       "      <td>6.914405</td>\n",
       "      <td>0.167165</td>\n",
       "      <td>2.005771</td>\n",
       "      <td>0.465431</td>\n",
       "      <td>0.639357</td>\n",
       "      <td>0.192556</td>\n",
       "      <td>0.171850</td>\n",
       "      <td>0.192930</td>\n",
       "      <td>0.122340</td>\n",
       "      <td>49.305030</td>\n",
       "      <td>151.357286</td>\n",
       "      <td>181.387599</td>\n",
       "    </tr>\n",
       "    <tr>\n",
       "      <th>min</th>\n",
       "      <td>1.0000</td>\n",
       "      <td>1.000000</td>\n",
       "      <td>0.000000</td>\n",
       "      <td>1.000000</td>\n",
       "      <td>0.000000</td>\n",
       "      <td>0.000000</td>\n",
       "      <td>0.000000</td>\n",
       "      <td>0.000000</td>\n",
       "      <td>1.000000</td>\n",
       "      <td>0.020000</td>\n",
       "      <td>0.000000</td>\n",
       "      <td>0.000000</td>\n",
       "      <td>0.000000</td>\n",
       "      <td>0.000000</td>\n",
       "      <td>0.000000</td>\n",
       "      <td>1.000000</td>\n",
       "    </tr>\n",
       "    <tr>\n",
       "      <th>25%</th>\n",
       "      <td>4345.5000</td>\n",
       "      <td>2.000000</td>\n",
       "      <td>0.000000</td>\n",
       "      <td>4.000000</td>\n",
       "      <td>6.000000</td>\n",
       "      <td>0.000000</td>\n",
       "      <td>1.000000</td>\n",
       "      <td>0.000000</td>\n",
       "      <td>1.000000</td>\n",
       "      <td>0.340000</td>\n",
       "      <td>0.333300</td>\n",
       "      <td>0.480000</td>\n",
       "      <td>0.104500</td>\n",
       "      <td>4.000000</td>\n",
       "      <td>34.000000</td>\n",
       "      <td>40.000000</td>\n",
       "    </tr>\n",
       "    <tr>\n",
       "      <th>50%</th>\n",
       "      <td>8690.0000</td>\n",
       "      <td>3.000000</td>\n",
       "      <td>1.000000</td>\n",
       "      <td>7.000000</td>\n",
       "      <td>12.000000</td>\n",
       "      <td>0.000000</td>\n",
       "      <td>3.000000</td>\n",
       "      <td>1.000000</td>\n",
       "      <td>1.000000</td>\n",
       "      <td>0.500000</td>\n",
       "      <td>0.484800</td>\n",
       "      <td>0.630000</td>\n",
       "      <td>0.194000</td>\n",
       "      <td>17.000000</td>\n",
       "      <td>115.000000</td>\n",
       "      <td>142.000000</td>\n",
       "    </tr>\n",
       "    <tr>\n",
       "      <th>75%</th>\n",
       "      <td>13034.5000</td>\n",
       "      <td>3.000000</td>\n",
       "      <td>1.000000</td>\n",
       "      <td>10.000000</td>\n",
       "      <td>18.000000</td>\n",
       "      <td>0.000000</td>\n",
       "      <td>5.000000</td>\n",
       "      <td>1.000000</td>\n",
       "      <td>2.000000</td>\n",
       "      <td>0.660000</td>\n",
       "      <td>0.621200</td>\n",
       "      <td>0.780000</td>\n",
       "      <td>0.253700</td>\n",
       "      <td>48.000000</td>\n",
       "      <td>220.000000</td>\n",
       "      <td>281.000000</td>\n",
       "    </tr>\n",
       "    <tr>\n",
       "      <th>max</th>\n",
       "      <td>17379.0000</td>\n",
       "      <td>4.000000</td>\n",
       "      <td>1.000000</td>\n",
       "      <td>12.000000</td>\n",
       "      <td>23.000000</td>\n",
       "      <td>1.000000</td>\n",
       "      <td>6.000000</td>\n",
       "      <td>1.000000</td>\n",
       "      <td>4.000000</td>\n",
       "      <td>1.000000</td>\n",
       "      <td>1.000000</td>\n",
       "      <td>1.000000</td>\n",
       "      <td>0.850700</td>\n",
       "      <td>367.000000</td>\n",
       "      <td>886.000000</td>\n",
       "      <td>977.000000</td>\n",
       "    </tr>\n",
       "  </tbody>\n",
       "</table>\n",
       "</div>"
      ],
      "text/plain": [
       "          instant        season            yr          mnth            hr  \\\n",
       "count  17379.0000  17379.000000  17379.000000  17379.000000  17379.000000   \n",
       "mean    8690.0000      2.501640      0.502561      6.537775     11.546752   \n",
       "std     5017.0295      1.106918      0.500008      3.438776      6.914405   \n",
       "min        1.0000      1.000000      0.000000      1.000000      0.000000   \n",
       "25%     4345.5000      2.000000      0.000000      4.000000      6.000000   \n",
       "50%     8690.0000      3.000000      1.000000      7.000000     12.000000   \n",
       "75%    13034.5000      3.000000      1.000000     10.000000     18.000000   \n",
       "max    17379.0000      4.000000      1.000000     12.000000     23.000000   \n",
       "\n",
       "            holiday       weekday    workingday    weathersit          temp  \\\n",
       "count  17379.000000  17379.000000  17379.000000  17379.000000  17379.000000   \n",
       "mean       0.028770      3.003683      0.682721      1.425283      0.496987   \n",
       "std        0.167165      2.005771      0.465431      0.639357      0.192556   \n",
       "min        0.000000      0.000000      0.000000      1.000000      0.020000   \n",
       "25%        0.000000      1.000000      0.000000      1.000000      0.340000   \n",
       "50%        0.000000      3.000000      1.000000      1.000000      0.500000   \n",
       "75%        0.000000      5.000000      1.000000      2.000000      0.660000   \n",
       "max        1.000000      6.000000      1.000000      4.000000      1.000000   \n",
       "\n",
       "              atemp           hum     windspeed        casual    registered  \\\n",
       "count  17379.000000  17379.000000  17379.000000  17379.000000  17379.000000   \n",
       "mean       0.475775      0.627229      0.190098     35.676218    153.786869   \n",
       "std        0.171850      0.192930      0.122340     49.305030    151.357286   \n",
       "min        0.000000      0.000000      0.000000      0.000000      0.000000   \n",
       "25%        0.333300      0.480000      0.104500      4.000000     34.000000   \n",
       "50%        0.484800      0.630000      0.194000     17.000000    115.000000   \n",
       "75%        0.621200      0.780000      0.253700     48.000000    220.000000   \n",
       "max        1.000000      1.000000      0.850700    367.000000    886.000000   \n",
       "\n",
       "                cnt  \n",
       "count  17379.000000  \n",
       "mean     189.463088  \n",
       "std      181.387599  \n",
       "min        1.000000  \n",
       "25%       40.000000  \n",
       "50%      142.000000  \n",
       "75%      281.000000  \n",
       "max      977.000000  "
      ]
     },
     "execution_count": 64,
     "metadata": {},
     "output_type": "execute_result"
    }
   ],
   "source": [
    "hour.describe()"
   ]
  },
  {
   "cell_type": "markdown",
   "metadata": {},
   "source": [
    "MENAMPILKAN STATISTIK DESKRIPTIF UNTUK DATA PER JAM YANG BERTIPE NUMERIC. BERDASARKAN RINGKASAN STATISTIK DI ATAS DATA PENYEWA PER JAM TIDAK ADA MASALAH"
   ]
  },
  {
   "cell_type": "code",
   "execution_count": null,
   "metadata": {},
   "outputs": [
    {
     "name": "stdout",
     "output_type": "stream",
     "text": [
      "[651, 644, 712, 676, 734, 662, 782, 749, 713, 746, 651, 686, 690, 679, 685, 648, 721, 801, 750, 801, 729, 779, 649, 810, 801, 662, 957, 830, 686, 657, 664, 684, 644, 658, 654, 703, 681, 729, 757, 800, 684, 744, 759, 822, 698, 655, 643, 646, 692, 744, 704, 656, 738, 671, 678, 678, 660, 658, 681, 712, 676, 673, 781, 775, 677, 748, 776, 700, 819, 668, 649, 691, 654, 732, 709, 664, 702, 654, 653, 683, 664, 681, 743, 666, 729, 813, 704, 706, 643, 769, 680, 717, 710, 705, 732, 770, 779, 659, 678, 733, 650, 873, 846, 852, 868, 745, 812, 669, 704, 730, 672, 645, 785, 785, 719, 692, 798, 752, 653, 781, 710, 671, 839, 796, 693, 827, 785, 694, 668, 679, 647, 702, 644, 684, 686, 678, 644, 662, 665, 834, 822, 645, 710, 850, 790, 668, 724, 782, 681, 869, 813, 700, 793, 723, 651, 800, 831, 681, 653, 713, 857, 744, 671, 719, 867, 823, 653, 823, 693, 723, 673, 811, 795, 643, 691, 672, 646, 833, 791, 656, 900, 824, 687, 843, 804, 643, 705, 697, 747, 730, 646, 722, 689, 849, 872, 649, 872, 819, 674, 830, 814, 702, 795, 825, 713, 835, 667, 755, 794, 661, 770, 772, 679, 643, 657, 771, 777, 691, 715, 738, 847, 741, 743, 869, 877, 788, 913, 891, 698, 729, 738, 688, 676, 699, 751, 827, 812, 665, 760, 820, 857, 681, 837, 891, 652, 739, 865, 767, 668, 741, 671, 858, 843, 705, 868, 814, 737, 858, 862, 686, 698, 810, 811, 730, 673, 818, 812, 812, 854, 682, 851, 848, 649, 682, 897, 832, 677, 668, 791, 669, 654, 644, 655, 893, 815, 723, 878, 740, 783, 683, 707, 820, 941, 744, 812, 736, 699, 845, 834, 693, 864, 818, 808, 870, 812, 643, 754, 844, 853, 690, 856, 839, 725, 863, 839, 662, 646, 808, 835, 719, 772, 792, 694, 668, 757, 729, 647, 696, 701, 671, 730, 871, 968, 750, 970, 877, 770, 925, 977, 758, 884, 852, 674, 766, 894, 808, 706, 704, 715, 654, 783, 729, 656, 694, 683, 842, 774, 672, 797, 886, 892, 790, 976, 900, 757, 846, 805, 688, 707, 654, 750, 680, 646, 776, 702, 666, 691, 723, 750, 898, 853, 805, 967, 822, 838, 953, 884, 794, 905, 899, 705, 808, 667, 663, 682, 686, 750, 727, 722, 712, 680, 649, 648, 784, 856, 715, 687, 809, 917, 810, 738, 901, 887, 785, 900, 761, 647, 743, 710, 659, 713, 806, 784, 839, 948, 844, 798, 827, 692, 743, 745, 837, 670, 737, 766, 835, 943, 838, 817, 888, 884, 834, 890, 788, 703, 714, 711, 711, 691, 731, 675, 728, 922, 786, 761, 938, 826, 801, 963, 858, 779, 886, 809, 734, 817, 665, 668, 760, 750, 711, 723, 680, 689, 678, 687, 648, 668, 693, 654, 651, 686, 654, 724, 653, 691, 646, 711, 663, 665, 692, 679, 729, 731, 708, 692, 721, 743, 731, 759, 659, 724, 688, 679, 662, 678]\n"
     ]
    }
   ],
   "source": [
    "q25, q75 = np.percentile(hour['cnt'], 25), np.percentile(hour['cnt'], 75)\n",
    "iqr = q75 - q25\n",
    "cut_off = iqr * 1.5\n",
    "minimum, maximum = q25 - cut_off, q75 + cut_off\n",
    " \n",
    "outliers = [x for x in hour['cnt'] if x < minimum or x > maximum]\n",
    "print(outliers)"
   ]
  },
  {
   "cell_type": "markdown",
   "metadata": {},
   "source": [
    "MELAKUKAN PENGECEKAN OUTLIER PADA DATA PENYEWAAN PERJAM.\n",
    "BANYAK DITEMUKAN OUTLIER PADA DATA PENYEWAAN PER JAM, PERLU DILIHAT LAGI BERDASARKAN VARIABEL LAINNYA SEPERTI WAKTU DAN HARI TERTENTU"
   ]
  },
  {
   "cell_type": "code",
   "execution_count": null,
   "metadata": {},
   "outputs": [
    {
     "name": "stdout",
     "output_type": "stream",
     "text": [
      "[]\n"
     ]
    }
   ],
   "source": [
    "q25, q75 = np.percentile(day['cnt'], 25), np.percentile(day['cnt'], 75)\n",
    "iqr = q75 - q25\n",
    "cut_off = iqr * 1.5\n",
    "minimum, maximum = q25 - cut_off, q75 + cut_off\n",
    " \n",
    "outliers = [x for x in day['cnt'] if x < minimum or x > maximum]\n",
    "print(outliers)"
   ]
  },
  {
   "cell_type": "markdown",
   "metadata": {},
   "source": [
    "MELAKUKAN PENGECEKAN OUTLIER UNTUK DATA PENYEWAAN PER HARI DAN TIDAK DITEMUKAN OUTLIER, SALAH SATU PENYEBAB DI DATA PER JAM BANYAK OUTLIER ADALAH KARENA DI BISA SAJA DI JAM JAM TERTENTU SANGAT TINGGI PENYEWAAN SEPEDANYA"
   ]
  },
  {
   "cell_type": "markdown",
   "metadata": {
    "id": "7dtxhAPrkhPL"
   },
   "source": [
    "**Insight:**\n",
    "- VARIABEL DTEDAY PERLU DI KONVERSI KE TIPE DATA DATETIME\n",
    "- DATA PENYEWAAN PER JAM DAN PER HARI LENGKAP TIDAK MEMILIKI MISSING VALUE\n",
    "- DATA PER JAM DAN PER HARI TIDAK ADA YANG DUPLIKAT\n",
    "- DATA JUMLAH PENGGUNA PER JAM MEMILIKI BANYAK OUTLIER, NAMUN SETELAH DI CEK DI DATA JUMLAH PENGGUNNA PERHARI TIDAK ADA OUTLIER, KEMUNGKINAN OUTLIER DISEBABKAN OLEH DATA PER JAM KARENA DI JAM TERTENTU PENYEWAAN SEPEDA TINGGI"
   ]
  },
  {
   "cell_type": "markdown",
   "metadata": {
    "id": "EhN5R4hr8DC1"
   },
   "source": [
    "### Cleaning Data"
   ]
  },
  {
   "cell_type": "code",
   "execution_count": null,
   "metadata": {
    "id": "jVnYpprE9Evz"
   },
   "outputs": [],
   "source": [
    "hour['dteday'] = pd.to_datetime(hour['dteday'])"
   ]
  },
  {
   "cell_type": "markdown",
   "metadata": {},
   "source": [
    "MENGUBAH TIPE DATA DTEDAY MENJADI DATE TIME PADA DATA PENYEWAAN PER JAM"
   ]
  },
  {
   "cell_type": "code",
   "execution_count": null,
   "metadata": {},
   "outputs": [
    {
     "name": "stdout",
     "output_type": "stream",
     "text": [
      "<class 'pandas.core.frame.DataFrame'>\n",
      "RangeIndex: 17379 entries, 0 to 17378\n",
      "Data columns (total 17 columns):\n",
      " #   Column      Non-Null Count  Dtype         \n",
      "---  ------      --------------  -----         \n",
      " 0   instant     17379 non-null  int64         \n",
      " 1   dteday      17379 non-null  datetime64[ns]\n",
      " 2   season      17379 non-null  int64         \n",
      " 3   yr          17379 non-null  int64         \n",
      " 4   mnth        17379 non-null  int64         \n",
      " 5   hr          17379 non-null  int64         \n",
      " 6   holiday     17379 non-null  int64         \n",
      " 7   weekday     17379 non-null  int64         \n",
      " 8   workingday  17379 non-null  int64         \n",
      " 9   weathersit  17379 non-null  int64         \n",
      " 10  temp        17379 non-null  float64       \n",
      " 11  atemp       17379 non-null  float64       \n",
      " 12  hum         17379 non-null  float64       \n",
      " 13  windspeed   17379 non-null  float64       \n",
      " 14  casual      17379 non-null  int64         \n",
      " 15  registered  17379 non-null  int64         \n",
      " 16  cnt         17379 non-null  int64         \n",
      "dtypes: datetime64[ns](1), float64(4), int64(12)\n",
      "memory usage: 2.3 MB\n"
     ]
    }
   ],
   "source": [
    "hour.info()"
   ]
  },
  {
   "cell_type": "markdown",
   "metadata": {},
   "source": [
    "MELAKUKAN PENGECEKAN APAKAH TIPE DATA DARI DTEDAY SUDAH BERUBAH MENJADI DATETIME"
   ]
  },
  {
   "cell_type": "code",
   "execution_count": null,
   "metadata": {},
   "outputs": [],
   "source": [
    "day['dteday'] = pd.to_datetime(day['dteday'])"
   ]
  },
  {
   "cell_type": "markdown",
   "metadata": {},
   "source": [
    "MENGUBAH TIPE DATA DTEDAY MENJADI MENJADI DATETIME PADA DATA PENYEWAAN PER HARI"
   ]
  },
  {
   "cell_type": "code",
   "execution_count": null,
   "metadata": {},
   "outputs": [
    {
     "name": "stdout",
     "output_type": "stream",
     "text": [
      "<class 'pandas.core.frame.DataFrame'>\n",
      "RangeIndex: 17379 entries, 0 to 17378\n",
      "Data columns (total 17 columns):\n",
      " #   Column      Non-Null Count  Dtype         \n",
      "---  ------      --------------  -----         \n",
      " 0   instant     17379 non-null  int64         \n",
      " 1   dteday      17379 non-null  datetime64[ns]\n",
      " 2   season      17379 non-null  int64         \n",
      " 3   yr          17379 non-null  int64         \n",
      " 4   mnth        17379 non-null  int64         \n",
      " 5   hr          17379 non-null  int64         \n",
      " 6   holiday     17379 non-null  int64         \n",
      " 7   weekday     17379 non-null  int64         \n",
      " 8   workingday  17379 non-null  int64         \n",
      " 9   weathersit  17379 non-null  int64         \n",
      " 10  temp        17379 non-null  float64       \n",
      " 11  atemp       17379 non-null  float64       \n",
      " 12  hum         17379 non-null  float64       \n",
      " 13  windspeed   17379 non-null  float64       \n",
      " 14  casual      17379 non-null  int64         \n",
      " 15  registered  17379 non-null  int64         \n",
      " 16  cnt         17379 non-null  int64         \n",
      "dtypes: datetime64[ns](1), float64(4), int64(12)\n",
      "memory usage: 2.3 MB\n"
     ]
    }
   ],
   "source": [
    "hour.info()"
   ]
  },
  {
   "cell_type": "markdown",
   "metadata": {},
   "source": [
    "MELAKUKAN PENGECEKAN APAKAH TIPE DAYA DARI DTEDAY SUDAH BERUBAH MENAJDI DATETIME"
   ]
  },
  {
   "cell_type": "markdown",
   "metadata": {
    "id": "Q_5ejIqckiSP"
   },
   "source": [
    "**Insight:**\n",
    "- MENGUBAH TIPE DATA DTEDAY MENJADI DATETIME AKAN BERGUNA SAAT EKSPLORASI DATA MAUPUN ANALISIS DATA LEBIH LANJUT"
   ]
  },
  {
   "cell_type": "markdown",
   "metadata": {
    "id": "gp-Y6wU38DC1"
   },
   "source": [
    "## Exploratory Data Analysis (EDA)"
   ]
  },
  {
   "cell_type": "markdown",
   "metadata": {
    "id": "MW7WF2kr8DC1"
   },
   "source": [
    "### Explore ..."
   ]
  },
  {
   "cell_type": "code",
   "execution_count": null,
   "metadata": {
    "id": "e9CQCZjk8DC2"
   },
   "outputs": [
    {
     "data": {
      "text/html": [
       "<div>\n",
       "<style scoped>\n",
       "    .dataframe tbody tr th:only-of-type {\n",
       "        vertical-align: middle;\n",
       "    }\n",
       "\n",
       "    .dataframe tbody tr th {\n",
       "        vertical-align: top;\n",
       "    }\n",
       "\n",
       "    .dataframe thead th {\n",
       "        text-align: right;\n",
       "    }\n",
       "</style>\n",
       "<table border=\"1\" class=\"dataframe\">\n",
       "  <thead>\n",
       "    <tr style=\"text-align: right;\">\n",
       "      <th></th>\n",
       "      <th>instant</th>\n",
       "      <th>dteday</th>\n",
       "      <th>season</th>\n",
       "      <th>yr</th>\n",
       "      <th>mnth</th>\n",
       "      <th>hr</th>\n",
       "      <th>holiday</th>\n",
       "      <th>weekday</th>\n",
       "      <th>workingday</th>\n",
       "      <th>weathersit</th>\n",
       "      <th>temp</th>\n",
       "      <th>atemp</th>\n",
       "      <th>hum</th>\n",
       "      <th>windspeed</th>\n",
       "      <th>casual</th>\n",
       "      <th>registered</th>\n",
       "      <th>cnt</th>\n",
       "    </tr>\n",
       "  </thead>\n",
       "  <tbody>\n",
       "    <tr>\n",
       "      <th>count</th>\n",
       "      <td>17379.0000</td>\n",
       "      <td>17379</td>\n",
       "      <td>17379.000000</td>\n",
       "      <td>17379.000000</td>\n",
       "      <td>17379.000000</td>\n",
       "      <td>17379.000000</td>\n",
       "      <td>17379.000000</td>\n",
       "      <td>17379.000000</td>\n",
       "      <td>17379.000000</td>\n",
       "      <td>17379.000000</td>\n",
       "      <td>17379.000000</td>\n",
       "      <td>17379.000000</td>\n",
       "      <td>17379.000000</td>\n",
       "      <td>17379.000000</td>\n",
       "      <td>17379.000000</td>\n",
       "      <td>17379.000000</td>\n",
       "      <td>17379.000000</td>\n",
       "    </tr>\n",
       "    <tr>\n",
       "      <th>mean</th>\n",
       "      <td>8690.0000</td>\n",
       "      <td>2012-01-02 04:08:34.552045568</td>\n",
       "      <td>2.501640</td>\n",
       "      <td>0.502561</td>\n",
       "      <td>6.537775</td>\n",
       "      <td>11.546752</td>\n",
       "      <td>0.028770</td>\n",
       "      <td>3.003683</td>\n",
       "      <td>0.682721</td>\n",
       "      <td>1.425283</td>\n",
       "      <td>0.496987</td>\n",
       "      <td>0.475775</td>\n",
       "      <td>0.627229</td>\n",
       "      <td>0.190098</td>\n",
       "      <td>35.676218</td>\n",
       "      <td>153.786869</td>\n",
       "      <td>189.463088</td>\n",
       "    </tr>\n",
       "    <tr>\n",
       "      <th>min</th>\n",
       "      <td>1.0000</td>\n",
       "      <td>2011-01-01 00:00:00</td>\n",
       "      <td>1.000000</td>\n",
       "      <td>0.000000</td>\n",
       "      <td>1.000000</td>\n",
       "      <td>0.000000</td>\n",
       "      <td>0.000000</td>\n",
       "      <td>0.000000</td>\n",
       "      <td>0.000000</td>\n",
       "      <td>1.000000</td>\n",
       "      <td>0.020000</td>\n",
       "      <td>0.000000</td>\n",
       "      <td>0.000000</td>\n",
       "      <td>0.000000</td>\n",
       "      <td>0.000000</td>\n",
       "      <td>0.000000</td>\n",
       "      <td>1.000000</td>\n",
       "    </tr>\n",
       "    <tr>\n",
       "      <th>25%</th>\n",
       "      <td>4345.5000</td>\n",
       "      <td>2011-07-04 00:00:00</td>\n",
       "      <td>2.000000</td>\n",
       "      <td>0.000000</td>\n",
       "      <td>4.000000</td>\n",
       "      <td>6.000000</td>\n",
       "      <td>0.000000</td>\n",
       "      <td>1.000000</td>\n",
       "      <td>0.000000</td>\n",
       "      <td>1.000000</td>\n",
       "      <td>0.340000</td>\n",
       "      <td>0.333300</td>\n",
       "      <td>0.480000</td>\n",
       "      <td>0.104500</td>\n",
       "      <td>4.000000</td>\n",
       "      <td>34.000000</td>\n",
       "      <td>40.000000</td>\n",
       "    </tr>\n",
       "    <tr>\n",
       "      <th>50%</th>\n",
       "      <td>8690.0000</td>\n",
       "      <td>2012-01-02 00:00:00</td>\n",
       "      <td>3.000000</td>\n",
       "      <td>1.000000</td>\n",
       "      <td>7.000000</td>\n",
       "      <td>12.000000</td>\n",
       "      <td>0.000000</td>\n",
       "      <td>3.000000</td>\n",
       "      <td>1.000000</td>\n",
       "      <td>1.000000</td>\n",
       "      <td>0.500000</td>\n",
       "      <td>0.484800</td>\n",
       "      <td>0.630000</td>\n",
       "      <td>0.194000</td>\n",
       "      <td>17.000000</td>\n",
       "      <td>115.000000</td>\n",
       "      <td>142.000000</td>\n",
       "    </tr>\n",
       "    <tr>\n",
       "      <th>75%</th>\n",
       "      <td>13034.5000</td>\n",
       "      <td>2012-07-02 00:00:00</td>\n",
       "      <td>3.000000</td>\n",
       "      <td>1.000000</td>\n",
       "      <td>10.000000</td>\n",
       "      <td>18.000000</td>\n",
       "      <td>0.000000</td>\n",
       "      <td>5.000000</td>\n",
       "      <td>1.000000</td>\n",
       "      <td>2.000000</td>\n",
       "      <td>0.660000</td>\n",
       "      <td>0.621200</td>\n",
       "      <td>0.780000</td>\n",
       "      <td>0.253700</td>\n",
       "      <td>48.000000</td>\n",
       "      <td>220.000000</td>\n",
       "      <td>281.000000</td>\n",
       "    </tr>\n",
       "    <tr>\n",
       "      <th>max</th>\n",
       "      <td>17379.0000</td>\n",
       "      <td>2012-12-31 00:00:00</td>\n",
       "      <td>4.000000</td>\n",
       "      <td>1.000000</td>\n",
       "      <td>12.000000</td>\n",
       "      <td>23.000000</td>\n",
       "      <td>1.000000</td>\n",
       "      <td>6.000000</td>\n",
       "      <td>1.000000</td>\n",
       "      <td>4.000000</td>\n",
       "      <td>1.000000</td>\n",
       "      <td>1.000000</td>\n",
       "      <td>1.000000</td>\n",
       "      <td>0.850700</td>\n",
       "      <td>367.000000</td>\n",
       "      <td>886.000000</td>\n",
       "      <td>977.000000</td>\n",
       "    </tr>\n",
       "    <tr>\n",
       "      <th>std</th>\n",
       "      <td>5017.0295</td>\n",
       "      <td>NaN</td>\n",
       "      <td>1.106918</td>\n",
       "      <td>0.500008</td>\n",
       "      <td>3.438776</td>\n",
       "      <td>6.914405</td>\n",
       "      <td>0.167165</td>\n",
       "      <td>2.005771</td>\n",
       "      <td>0.465431</td>\n",
       "      <td>0.639357</td>\n",
       "      <td>0.192556</td>\n",
       "      <td>0.171850</td>\n",
       "      <td>0.192930</td>\n",
       "      <td>0.122340</td>\n",
       "      <td>49.305030</td>\n",
       "      <td>151.357286</td>\n",
       "      <td>181.387599</td>\n",
       "    </tr>\n",
       "  </tbody>\n",
       "</table>\n",
       "</div>"
      ],
      "text/plain": [
       "          instant                         dteday        season            yr  \\\n",
       "count  17379.0000                          17379  17379.000000  17379.000000   \n",
       "mean    8690.0000  2012-01-02 04:08:34.552045568      2.501640      0.502561   \n",
       "min        1.0000            2011-01-01 00:00:00      1.000000      0.000000   \n",
       "25%     4345.5000            2011-07-04 00:00:00      2.000000      0.000000   \n",
       "50%     8690.0000            2012-01-02 00:00:00      3.000000      1.000000   \n",
       "75%    13034.5000            2012-07-02 00:00:00      3.000000      1.000000   \n",
       "max    17379.0000            2012-12-31 00:00:00      4.000000      1.000000   \n",
       "std     5017.0295                            NaN      1.106918      0.500008   \n",
       "\n",
       "               mnth            hr       holiday       weekday    workingday  \\\n",
       "count  17379.000000  17379.000000  17379.000000  17379.000000  17379.000000   \n",
       "mean       6.537775     11.546752      0.028770      3.003683      0.682721   \n",
       "min        1.000000      0.000000      0.000000      0.000000      0.000000   \n",
       "25%        4.000000      6.000000      0.000000      1.000000      0.000000   \n",
       "50%        7.000000     12.000000      0.000000      3.000000      1.000000   \n",
       "75%       10.000000     18.000000      0.000000      5.000000      1.000000   \n",
       "max       12.000000     23.000000      1.000000      6.000000      1.000000   \n",
       "std        3.438776      6.914405      0.167165      2.005771      0.465431   \n",
       "\n",
       "         weathersit          temp         atemp           hum     windspeed  \\\n",
       "count  17379.000000  17379.000000  17379.000000  17379.000000  17379.000000   \n",
       "mean       1.425283      0.496987      0.475775      0.627229      0.190098   \n",
       "min        1.000000      0.020000      0.000000      0.000000      0.000000   \n",
       "25%        1.000000      0.340000      0.333300      0.480000      0.104500   \n",
       "50%        1.000000      0.500000      0.484800      0.630000      0.194000   \n",
       "75%        2.000000      0.660000      0.621200      0.780000      0.253700   \n",
       "max        4.000000      1.000000      1.000000      1.000000      0.850700   \n",
       "std        0.639357      0.192556      0.171850      0.192930      0.122340   \n",
       "\n",
       "             casual    registered           cnt  \n",
       "count  17379.000000  17379.000000  17379.000000  \n",
       "mean      35.676218    153.786869    189.463088  \n",
       "min        0.000000      0.000000      1.000000  \n",
       "25%        4.000000     34.000000     40.000000  \n",
       "50%       17.000000    115.000000    142.000000  \n",
       "75%       48.000000    220.000000    281.000000  \n",
       "max      367.000000    886.000000    977.000000  \n",
       "std       49.305030    151.357286    181.387599  "
      ]
     },
     "execution_count": 71,
     "metadata": {},
     "output_type": "execute_result"
    }
   ],
   "source": [
    "hour.describe(include=\"all\")"
   ]
  },
  {
   "cell_type": "markdown",
   "metadata": {},
   "source": [
    "MELIHAT RANGKUMAN PARAMETER STATISTIK DARI SEMUA TIPE DATA YANG ADA DI DATA PENGGUNA PER JAM"
   ]
  },
  {
   "cell_type": "code",
   "execution_count": null,
   "metadata": {},
   "outputs": [
    {
     "data": {
      "text/html": [
       "<div>\n",
       "<style scoped>\n",
       "    .dataframe tbody tr th:only-of-type {\n",
       "        vertical-align: middle;\n",
       "    }\n",
       "\n",
       "    .dataframe tbody tr th {\n",
       "        vertical-align: top;\n",
       "    }\n",
       "\n",
       "    .dataframe thead th {\n",
       "        text-align: right;\n",
       "    }\n",
       "</style>\n",
       "<table border=\"1\" class=\"dataframe\">\n",
       "  <thead>\n",
       "    <tr style=\"text-align: right;\">\n",
       "      <th></th>\n",
       "      <th>instant</th>\n",
       "      <th>dteday</th>\n",
       "      <th>season</th>\n",
       "      <th>yr</th>\n",
       "      <th>mnth</th>\n",
       "      <th>holiday</th>\n",
       "      <th>weekday</th>\n",
       "      <th>workingday</th>\n",
       "      <th>weathersit</th>\n",
       "      <th>temp</th>\n",
       "      <th>atemp</th>\n",
       "      <th>hum</th>\n",
       "      <th>windspeed</th>\n",
       "      <th>casual</th>\n",
       "      <th>registered</th>\n",
       "      <th>cnt</th>\n",
       "    </tr>\n",
       "  </thead>\n",
       "  <tbody>\n",
       "    <tr>\n",
       "      <th>count</th>\n",
       "      <td>731.000000</td>\n",
       "      <td>731</td>\n",
       "      <td>731.000000</td>\n",
       "      <td>731.000000</td>\n",
       "      <td>731.000000</td>\n",
       "      <td>731.000000</td>\n",
       "      <td>731.000000</td>\n",
       "      <td>731.000000</td>\n",
       "      <td>731.000000</td>\n",
       "      <td>731.000000</td>\n",
       "      <td>731.000000</td>\n",
       "      <td>731.000000</td>\n",
       "      <td>731.000000</td>\n",
       "      <td>731.000000</td>\n",
       "      <td>731.000000</td>\n",
       "      <td>731.000000</td>\n",
       "    </tr>\n",
       "    <tr>\n",
       "      <th>mean</th>\n",
       "      <td>366.000000</td>\n",
       "      <td>2012-01-01 00:00:00</td>\n",
       "      <td>2.496580</td>\n",
       "      <td>0.500684</td>\n",
       "      <td>6.519836</td>\n",
       "      <td>0.028728</td>\n",
       "      <td>2.997264</td>\n",
       "      <td>0.683995</td>\n",
       "      <td>1.395349</td>\n",
       "      <td>0.495385</td>\n",
       "      <td>0.474354</td>\n",
       "      <td>0.627894</td>\n",
       "      <td>0.190486</td>\n",
       "      <td>848.176471</td>\n",
       "      <td>3656.172367</td>\n",
       "      <td>4504.348837</td>\n",
       "    </tr>\n",
       "    <tr>\n",
       "      <th>min</th>\n",
       "      <td>1.000000</td>\n",
       "      <td>2011-01-01 00:00:00</td>\n",
       "      <td>1.000000</td>\n",
       "      <td>0.000000</td>\n",
       "      <td>1.000000</td>\n",
       "      <td>0.000000</td>\n",
       "      <td>0.000000</td>\n",
       "      <td>0.000000</td>\n",
       "      <td>1.000000</td>\n",
       "      <td>0.059130</td>\n",
       "      <td>0.079070</td>\n",
       "      <td>0.000000</td>\n",
       "      <td>0.022392</td>\n",
       "      <td>2.000000</td>\n",
       "      <td>20.000000</td>\n",
       "      <td>22.000000</td>\n",
       "    </tr>\n",
       "    <tr>\n",
       "      <th>25%</th>\n",
       "      <td>183.500000</td>\n",
       "      <td>2011-07-02 12:00:00</td>\n",
       "      <td>2.000000</td>\n",
       "      <td>0.000000</td>\n",
       "      <td>4.000000</td>\n",
       "      <td>0.000000</td>\n",
       "      <td>1.000000</td>\n",
       "      <td>0.000000</td>\n",
       "      <td>1.000000</td>\n",
       "      <td>0.337083</td>\n",
       "      <td>0.337842</td>\n",
       "      <td>0.520000</td>\n",
       "      <td>0.134950</td>\n",
       "      <td>315.500000</td>\n",
       "      <td>2497.000000</td>\n",
       "      <td>3152.000000</td>\n",
       "    </tr>\n",
       "    <tr>\n",
       "      <th>50%</th>\n",
       "      <td>366.000000</td>\n",
       "      <td>2012-01-01 00:00:00</td>\n",
       "      <td>3.000000</td>\n",
       "      <td>1.000000</td>\n",
       "      <td>7.000000</td>\n",
       "      <td>0.000000</td>\n",
       "      <td>3.000000</td>\n",
       "      <td>1.000000</td>\n",
       "      <td>1.000000</td>\n",
       "      <td>0.498333</td>\n",
       "      <td>0.486733</td>\n",
       "      <td>0.626667</td>\n",
       "      <td>0.180975</td>\n",
       "      <td>713.000000</td>\n",
       "      <td>3662.000000</td>\n",
       "      <td>4548.000000</td>\n",
       "    </tr>\n",
       "    <tr>\n",
       "      <th>75%</th>\n",
       "      <td>548.500000</td>\n",
       "      <td>2012-07-01 12:00:00</td>\n",
       "      <td>3.000000</td>\n",
       "      <td>1.000000</td>\n",
       "      <td>10.000000</td>\n",
       "      <td>0.000000</td>\n",
       "      <td>5.000000</td>\n",
       "      <td>1.000000</td>\n",
       "      <td>2.000000</td>\n",
       "      <td>0.655417</td>\n",
       "      <td>0.608602</td>\n",
       "      <td>0.730209</td>\n",
       "      <td>0.233214</td>\n",
       "      <td>1096.000000</td>\n",
       "      <td>4776.500000</td>\n",
       "      <td>5956.000000</td>\n",
       "    </tr>\n",
       "    <tr>\n",
       "      <th>max</th>\n",
       "      <td>731.000000</td>\n",
       "      <td>2012-12-31 00:00:00</td>\n",
       "      <td>4.000000</td>\n",
       "      <td>1.000000</td>\n",
       "      <td>12.000000</td>\n",
       "      <td>1.000000</td>\n",
       "      <td>6.000000</td>\n",
       "      <td>1.000000</td>\n",
       "      <td>3.000000</td>\n",
       "      <td>0.861667</td>\n",
       "      <td>0.840896</td>\n",
       "      <td>0.972500</td>\n",
       "      <td>0.507463</td>\n",
       "      <td>3410.000000</td>\n",
       "      <td>6946.000000</td>\n",
       "      <td>8714.000000</td>\n",
       "    </tr>\n",
       "    <tr>\n",
       "      <th>std</th>\n",
       "      <td>211.165812</td>\n",
       "      <td>NaN</td>\n",
       "      <td>1.110807</td>\n",
       "      <td>0.500342</td>\n",
       "      <td>3.451913</td>\n",
       "      <td>0.167155</td>\n",
       "      <td>2.004787</td>\n",
       "      <td>0.465233</td>\n",
       "      <td>0.544894</td>\n",
       "      <td>0.183051</td>\n",
       "      <td>0.162961</td>\n",
       "      <td>0.142429</td>\n",
       "      <td>0.077498</td>\n",
       "      <td>686.622488</td>\n",
       "      <td>1560.256377</td>\n",
       "      <td>1937.211452</td>\n",
       "    </tr>\n",
       "  </tbody>\n",
       "</table>\n",
       "</div>"
      ],
      "text/plain": [
       "          instant               dteday      season          yr        mnth  \\\n",
       "count  731.000000                  731  731.000000  731.000000  731.000000   \n",
       "mean   366.000000  2012-01-01 00:00:00    2.496580    0.500684    6.519836   \n",
       "min      1.000000  2011-01-01 00:00:00    1.000000    0.000000    1.000000   \n",
       "25%    183.500000  2011-07-02 12:00:00    2.000000    0.000000    4.000000   \n",
       "50%    366.000000  2012-01-01 00:00:00    3.000000    1.000000    7.000000   \n",
       "75%    548.500000  2012-07-01 12:00:00    3.000000    1.000000   10.000000   \n",
       "max    731.000000  2012-12-31 00:00:00    4.000000    1.000000   12.000000   \n",
       "std    211.165812                  NaN    1.110807    0.500342    3.451913   \n",
       "\n",
       "          holiday     weekday  workingday  weathersit        temp       atemp  \\\n",
       "count  731.000000  731.000000  731.000000  731.000000  731.000000  731.000000   \n",
       "mean     0.028728    2.997264    0.683995    1.395349    0.495385    0.474354   \n",
       "min      0.000000    0.000000    0.000000    1.000000    0.059130    0.079070   \n",
       "25%      0.000000    1.000000    0.000000    1.000000    0.337083    0.337842   \n",
       "50%      0.000000    3.000000    1.000000    1.000000    0.498333    0.486733   \n",
       "75%      0.000000    5.000000    1.000000    2.000000    0.655417    0.608602   \n",
       "max      1.000000    6.000000    1.000000    3.000000    0.861667    0.840896   \n",
       "std      0.167155    2.004787    0.465233    0.544894    0.183051    0.162961   \n",
       "\n",
       "              hum   windspeed       casual   registered          cnt  \n",
       "count  731.000000  731.000000   731.000000   731.000000   731.000000  \n",
       "mean     0.627894    0.190486   848.176471  3656.172367  4504.348837  \n",
       "min      0.000000    0.022392     2.000000    20.000000    22.000000  \n",
       "25%      0.520000    0.134950   315.500000  2497.000000  3152.000000  \n",
       "50%      0.626667    0.180975   713.000000  3662.000000  4548.000000  \n",
       "75%      0.730209    0.233214  1096.000000  4776.500000  5956.000000  \n",
       "max      0.972500    0.507463  3410.000000  6946.000000  8714.000000  \n",
       "std      0.142429    0.077498   686.622488  1560.256377  1937.211452  "
      ]
     },
     "execution_count": 72,
     "metadata": {},
     "output_type": "execute_result"
    }
   ],
   "source": [
    "day.describe(include=\"all\")"
   ]
  },
  {
   "cell_type": "markdown",
   "metadata": {},
   "source": [
    "MELIHAT RANGKUMAN PARAMETER STATISTIK DARI SEMUA TIPE DATA YANG ADA DI DATA PENGGUNA PER HARI"
   ]
  },
  {
   "cell_type": "code",
   "execution_count": null,
   "metadata": {},
   "outputs": [
    {
     "data": {
      "text/html": [
       "<div>\n",
       "<style scoped>\n",
       "    .dataframe tbody tr th:only-of-type {\n",
       "        vertical-align: middle;\n",
       "    }\n",
       "\n",
       "    .dataframe tbody tr th {\n",
       "        vertical-align: top;\n",
       "    }\n",
       "\n",
       "    .dataframe thead tr th {\n",
       "        text-align: left;\n",
       "    }\n",
       "\n",
       "    .dataframe thead tr:last-of-type th {\n",
       "        text-align: right;\n",
       "    }\n",
       "</style>\n",
       "<table border=\"1\" class=\"dataframe\">\n",
       "  <thead>\n",
       "    <tr>\n",
       "      <th></th>\n",
       "      <th colspan=\"2\" halign=\"left\">casual</th>\n",
       "      <th colspan=\"2\" halign=\"left\">registered</th>\n",
       "      <th colspan=\"2\" halign=\"left\">cnt</th>\n",
       "    </tr>\n",
       "    <tr>\n",
       "      <th></th>\n",
       "      <th>sum</th>\n",
       "      <th>mean</th>\n",
       "      <th>sum</th>\n",
       "      <th>mean</th>\n",
       "      <th>sum</th>\n",
       "      <th>mean</th>\n",
       "    </tr>\n",
       "    <tr>\n",
       "      <th>hr</th>\n",
       "      <th></th>\n",
       "      <th></th>\n",
       "      <th></th>\n",
       "      <th></th>\n",
       "      <th></th>\n",
       "      <th></th>\n",
       "    </tr>\n",
       "  </thead>\n",
       "  <tbody>\n",
       "    <tr>\n",
       "      <th>0</th>\n",
       "      <td>7375</td>\n",
       "      <td>10.158402</td>\n",
       "      <td>31755</td>\n",
       "      <td>43.739669</td>\n",
       "      <td>39130</td>\n",
       "      <td>53.898072</td>\n",
       "    </tr>\n",
       "    <tr>\n",
       "      <th>1</th>\n",
       "      <td>4709</td>\n",
       "      <td>6.504144</td>\n",
       "      <td>19455</td>\n",
       "      <td>26.871547</td>\n",
       "      <td>24164</td>\n",
       "      <td>33.375691</td>\n",
       "    </tr>\n",
       "    <tr>\n",
       "      <th>2</th>\n",
       "      <td>3412</td>\n",
       "      <td>4.772028</td>\n",
       "      <td>12940</td>\n",
       "      <td>18.097902</td>\n",
       "      <td>16352</td>\n",
       "      <td>22.869930</td>\n",
       "    </tr>\n",
       "    <tr>\n",
       "      <th>3</th>\n",
       "      <td>1893</td>\n",
       "      <td>2.715925</td>\n",
       "      <td>6281</td>\n",
       "      <td>9.011478</td>\n",
       "      <td>8174</td>\n",
       "      <td>11.727403</td>\n",
       "    </tr>\n",
       "    <tr>\n",
       "      <th>4</th>\n",
       "      <td>874</td>\n",
       "      <td>1.253945</td>\n",
       "      <td>3554</td>\n",
       "      <td>5.098996</td>\n",
       "      <td>4428</td>\n",
       "      <td>6.352941</td>\n",
       "    </tr>\n",
       "    <tr>\n",
       "      <th>5</th>\n",
       "      <td>1012</td>\n",
       "      <td>1.411437</td>\n",
       "      <td>13249</td>\n",
       "      <td>18.478382</td>\n",
       "      <td>14261</td>\n",
       "      <td>19.889819</td>\n",
       "    </tr>\n",
       "    <tr>\n",
       "      <th>6</th>\n",
       "      <td>3017</td>\n",
       "      <td>4.161379</td>\n",
       "      <td>52115</td>\n",
       "      <td>71.882759</td>\n",
       "      <td>55132</td>\n",
       "      <td>76.044138</td>\n",
       "    </tr>\n",
       "    <tr>\n",
       "      <th>7</th>\n",
       "      <td>8037</td>\n",
       "      <td>11.055021</td>\n",
       "      <td>146134</td>\n",
       "      <td>201.009629</td>\n",
       "      <td>154171</td>\n",
       "      <td>212.064649</td>\n",
       "    </tr>\n",
       "    <tr>\n",
       "      <th>8</th>\n",
       "      <td>15761</td>\n",
       "      <td>21.679505</td>\n",
       "      <td>245240</td>\n",
       "      <td>337.331499</td>\n",
       "      <td>261001</td>\n",
       "      <td>359.011004</td>\n",
       "    </tr>\n",
       "    <tr>\n",
       "      <th>9</th>\n",
       "      <td>22458</td>\n",
       "      <td>30.891334</td>\n",
       "      <td>136980</td>\n",
       "      <td>188.418157</td>\n",
       "      <td>159438</td>\n",
       "      <td>219.309491</td>\n",
       "    </tr>\n",
       "    <tr>\n",
       "      <th>10</th>\n",
       "      <td>33789</td>\n",
       "      <td>46.477304</td>\n",
       "      <td>92468</td>\n",
       "      <td>127.191197</td>\n",
       "      <td>126257</td>\n",
       "      <td>173.668501</td>\n",
       "    </tr>\n",
       "    <tr>\n",
       "      <th>11</th>\n",
       "      <td>43286</td>\n",
       "      <td>59.540578</td>\n",
       "      <td>108034</td>\n",
       "      <td>148.602476</td>\n",
       "      <td>151320</td>\n",
       "      <td>208.143054</td>\n",
       "    </tr>\n",
       "    <tr>\n",
       "      <th>12</th>\n",
       "      <td>49718</td>\n",
       "      <td>68.293956</td>\n",
       "      <td>134696</td>\n",
       "      <td>185.021978</td>\n",
       "      <td>184414</td>\n",
       "      <td>253.315934</td>\n",
       "    </tr>\n",
       "    <tr>\n",
       "      <th>13</th>\n",
       "      <td>52713</td>\n",
       "      <td>72.308642</td>\n",
       "      <td>132206</td>\n",
       "      <td>181.352538</td>\n",
       "      <td>184919</td>\n",
       "      <td>253.661180</td>\n",
       "    </tr>\n",
       "    <tr>\n",
       "      <th>14</th>\n",
       "      <td>55089</td>\n",
       "      <td>75.567901</td>\n",
       "      <td>120563</td>\n",
       "      <td>165.381344</td>\n",
       "      <td>175652</td>\n",
       "      <td>240.949246</td>\n",
       "    </tr>\n",
       "    <tr>\n",
       "      <th>15</th>\n",
       "      <td>54606</td>\n",
       "      <td>74.905350</td>\n",
       "      <td>128543</td>\n",
       "      <td>176.327846</td>\n",
       "      <td>183149</td>\n",
       "      <td>251.233196</td>\n",
       "    </tr>\n",
       "    <tr>\n",
       "      <th>16</th>\n",
       "      <td>53834</td>\n",
       "      <td>73.745205</td>\n",
       "      <td>173914</td>\n",
       "      <td>238.238356</td>\n",
       "      <td>227748</td>\n",
       "      <td>311.983562</td>\n",
       "    </tr>\n",
       "    <tr>\n",
       "      <th>17</th>\n",
       "      <td>54220</td>\n",
       "      <td>74.273973</td>\n",
       "      <td>282640</td>\n",
       "      <td>387.178082</td>\n",
       "      <td>336860</td>\n",
       "      <td>461.452055</td>\n",
       "    </tr>\n",
       "    <tr>\n",
       "      <th>18</th>\n",
       "      <td>44496</td>\n",
       "      <td>61.120879</td>\n",
       "      <td>265276</td>\n",
       "      <td>364.390110</td>\n",
       "      <td>309772</td>\n",
       "      <td>425.510989</td>\n",
       "    </tr>\n",
       "    <tr>\n",
       "      <th>19</th>\n",
       "      <td>35505</td>\n",
       "      <td>48.770604</td>\n",
       "      <td>191284</td>\n",
       "      <td>262.752747</td>\n",
       "      <td>226789</td>\n",
       "      <td>311.523352</td>\n",
       "    </tr>\n",
       "    <tr>\n",
       "      <th>20</th>\n",
       "      <td>26378</td>\n",
       "      <td>36.233516</td>\n",
       "      <td>138172</td>\n",
       "      <td>189.796703</td>\n",
       "      <td>164550</td>\n",
       "      <td>226.030220</td>\n",
       "    </tr>\n",
       "    <tr>\n",
       "      <th>21</th>\n",
       "      <td>20570</td>\n",
       "      <td>28.255495</td>\n",
       "      <td>104875</td>\n",
       "      <td>144.059066</td>\n",
       "      <td>125445</td>\n",
       "      <td>172.314560</td>\n",
       "    </tr>\n",
       "    <tr>\n",
       "      <th>22</th>\n",
       "      <td>16200</td>\n",
       "      <td>22.252747</td>\n",
       "      <td>79412</td>\n",
       "      <td>109.082418</td>\n",
       "      <td>95612</td>\n",
       "      <td>131.335165</td>\n",
       "    </tr>\n",
       "    <tr>\n",
       "      <th>23</th>\n",
       "      <td>11065</td>\n",
       "      <td>15.199176</td>\n",
       "      <td>52876</td>\n",
       "      <td>72.631868</td>\n",
       "      <td>63941</td>\n",
       "      <td>87.831044</td>\n",
       "    </tr>\n",
       "  </tbody>\n",
       "</table>\n",
       "</div>"
      ],
      "text/plain": [
       "   casual            registered                 cnt            \n",
       "      sum       mean        sum        mean     sum        mean\n",
       "hr                                                             \n",
       "0    7375  10.158402      31755   43.739669   39130   53.898072\n",
       "1    4709   6.504144      19455   26.871547   24164   33.375691\n",
       "2    3412   4.772028      12940   18.097902   16352   22.869930\n",
       "3    1893   2.715925       6281    9.011478    8174   11.727403\n",
       "4     874   1.253945       3554    5.098996    4428    6.352941\n",
       "5    1012   1.411437      13249   18.478382   14261   19.889819\n",
       "6    3017   4.161379      52115   71.882759   55132   76.044138\n",
       "7    8037  11.055021     146134  201.009629  154171  212.064649\n",
       "8   15761  21.679505     245240  337.331499  261001  359.011004\n",
       "9   22458  30.891334     136980  188.418157  159438  219.309491\n",
       "10  33789  46.477304      92468  127.191197  126257  173.668501\n",
       "11  43286  59.540578     108034  148.602476  151320  208.143054\n",
       "12  49718  68.293956     134696  185.021978  184414  253.315934\n",
       "13  52713  72.308642     132206  181.352538  184919  253.661180\n",
       "14  55089  75.567901     120563  165.381344  175652  240.949246\n",
       "15  54606  74.905350     128543  176.327846  183149  251.233196\n",
       "16  53834  73.745205     173914  238.238356  227748  311.983562\n",
       "17  54220  74.273973     282640  387.178082  336860  461.452055\n",
       "18  44496  61.120879     265276  364.390110  309772  425.510989\n",
       "19  35505  48.770604     191284  262.752747  226789  311.523352\n",
       "20  26378  36.233516     138172  189.796703  164550  226.030220\n",
       "21  20570  28.255495     104875  144.059066  125445  172.314560\n",
       "22  16200  22.252747      79412  109.082418   95612  131.335165\n",
       "23  11065  15.199176      52876   72.631868   63941   87.831044"
      ]
     },
     "execution_count": 73,
     "metadata": {},
     "output_type": "execute_result"
    }
   ],
   "source": [
    "hour.groupby(by=\"hr\").agg({\n",
    "    \"casual\": [\"sum\", \"mean\"],\n",
    "    \"registered\": [\"sum\", \"mean\"],\n",
    "    \"cnt\": [\"sum\", \"mean\"]\n",
    "})"
   ]
  },
  {
   "cell_type": "markdown",
   "metadata": {},
   "source": [
    "MEMBUAT PIVOT TABEL JUMLAH DAN RATA RATA PENYEWA BERDASARKAN JAM SEWA YANG DIBAGI BERDASARKAN CASUAL(BUKAN MEMBER), REGISTERED (MEMBER), AND CNT (TOTAL MEMBER DAN NON MEMBER)"
   ]
  },
  {
   "cell_type": "code",
   "execution_count": null,
   "metadata": {},
   "outputs": [
    {
     "data": {
      "text/html": [
       "<div>\n",
       "<style scoped>\n",
       "    .dataframe tbody tr th:only-of-type {\n",
       "        vertical-align: middle;\n",
       "    }\n",
       "\n",
       "    .dataframe tbody tr th {\n",
       "        vertical-align: top;\n",
       "    }\n",
       "\n",
       "    .dataframe thead tr th {\n",
       "        text-align: left;\n",
       "    }\n",
       "\n",
       "    .dataframe thead tr:last-of-type th {\n",
       "        text-align: right;\n",
       "    }\n",
       "</style>\n",
       "<table border=\"1\" class=\"dataframe\">\n",
       "  <thead>\n",
       "    <tr>\n",
       "      <th></th>\n",
       "      <th colspan=\"2\" halign=\"left\">casual</th>\n",
       "      <th colspan=\"2\" halign=\"left\">registered</th>\n",
       "      <th colspan=\"2\" halign=\"left\">cnt</th>\n",
       "    </tr>\n",
       "    <tr>\n",
       "      <th></th>\n",
       "      <th>sum</th>\n",
       "      <th>mean</th>\n",
       "      <th>sum</th>\n",
       "      <th>mean</th>\n",
       "      <th>sum</th>\n",
       "      <th>mean</th>\n",
       "    </tr>\n",
       "    <tr>\n",
       "      <th>weekday</th>\n",
       "      <th></th>\n",
       "      <th></th>\n",
       "      <th></th>\n",
       "      <th></th>\n",
       "      <th></th>\n",
       "      <th></th>\n",
       "    </tr>\n",
       "  </thead>\n",
       "  <tbody>\n",
       "    <tr>\n",
       "      <th>0</th>\n",
       "      <td>140521</td>\n",
       "      <td>1338.295238</td>\n",
       "      <td>303506</td>\n",
       "      <td>2890.533333</td>\n",
       "      <td>444027</td>\n",
       "      <td>4228.828571</td>\n",
       "    </tr>\n",
       "    <tr>\n",
       "      <th>1</th>\n",
       "      <td>70784</td>\n",
       "      <td>674.133333</td>\n",
       "      <td>384719</td>\n",
       "      <td>3663.990476</td>\n",
       "      <td>455503</td>\n",
       "      <td>4338.123810</td>\n",
       "    </tr>\n",
       "    <tr>\n",
       "      <th>2</th>\n",
       "      <td>57843</td>\n",
       "      <td>556.182692</td>\n",
       "      <td>411266</td>\n",
       "      <td>3954.480769</td>\n",
       "      <td>469109</td>\n",
       "      <td>4510.663462</td>\n",
       "    </tr>\n",
       "    <tr>\n",
       "      <th>3</th>\n",
       "      <td>57319</td>\n",
       "      <td>551.144231</td>\n",
       "      <td>415729</td>\n",
       "      <td>3997.394231</td>\n",
       "      <td>473048</td>\n",
       "      <td>4548.538462</td>\n",
       "    </tr>\n",
       "    <tr>\n",
       "      <th>4</th>\n",
       "      <td>61460</td>\n",
       "      <td>590.961538</td>\n",
       "      <td>423935</td>\n",
       "      <td>4076.298077</td>\n",
       "      <td>485395</td>\n",
       "      <td>4667.259615</td>\n",
       "    </tr>\n",
       "    <tr>\n",
       "      <th>5</th>\n",
       "      <td>78238</td>\n",
       "      <td>752.288462</td>\n",
       "      <td>409552</td>\n",
       "      <td>3938.000000</td>\n",
       "      <td>487790</td>\n",
       "      <td>4690.288462</td>\n",
       "    </tr>\n",
       "    <tr>\n",
       "      <th>6</th>\n",
       "      <td>153852</td>\n",
       "      <td>1465.257143</td>\n",
       "      <td>323955</td>\n",
       "      <td>3085.285714</td>\n",
       "      <td>477807</td>\n",
       "      <td>4550.542857</td>\n",
       "    </tr>\n",
       "  </tbody>\n",
       "</table>\n",
       "</div>"
      ],
      "text/plain": [
       "         casual              registered                  cnt             \n",
       "            sum         mean        sum         mean     sum         mean\n",
       "weekday                                                                  \n",
       "0        140521  1338.295238     303506  2890.533333  444027  4228.828571\n",
       "1         70784   674.133333     384719  3663.990476  455503  4338.123810\n",
       "2         57843   556.182692     411266  3954.480769  469109  4510.663462\n",
       "3         57319   551.144231     415729  3997.394231  473048  4548.538462\n",
       "4         61460   590.961538     423935  4076.298077  485395  4667.259615\n",
       "5         78238   752.288462     409552  3938.000000  487790  4690.288462\n",
       "6        153852  1465.257143     323955  3085.285714  477807  4550.542857"
      ]
     },
     "execution_count": 74,
     "metadata": {},
     "output_type": "execute_result"
    }
   ],
   "source": [
    "day.groupby(by=[\"weekday\"]).agg({\n",
    "    \"casual\": [\"sum\", \"mean\"],\n",
    "    \"registered\": [\"sum\", \"mean\"],\n",
    "    \"cnt\": [\"sum\", \"mean\"]\n",
    "})"
   ]
  },
  {
   "cell_type": "markdown",
   "metadata": {},
   "source": [
    "MEMBUAT PIVOT TABEL JUMLAH DAN RATA RATA PENYEWA BERDASARKAN WEEKDAY (HARI) YANG DIBAGI BERDASARKAN CASUAL(BUKAN MEMBER), REGISTERED (MEMBER), AND CNT (TOTAL MEMBER DAN NON MEMBER)"
   ]
  },
  {
   "cell_type": "code",
   "execution_count": null,
   "metadata": {},
   "outputs": [
    {
     "data": {
      "text/html": [
       "<div>\n",
       "<style scoped>\n",
       "    .dataframe tbody tr th:only-of-type {\n",
       "        vertical-align: middle;\n",
       "    }\n",
       "\n",
       "    .dataframe tbody tr th {\n",
       "        vertical-align: top;\n",
       "    }\n",
       "\n",
       "    .dataframe thead tr th {\n",
       "        text-align: left;\n",
       "    }\n",
       "\n",
       "    .dataframe thead tr:last-of-type th {\n",
       "        text-align: right;\n",
       "    }\n",
       "</style>\n",
       "<table border=\"1\" class=\"dataframe\">\n",
       "  <thead>\n",
       "    <tr>\n",
       "      <th></th>\n",
       "      <th colspan=\"2\" halign=\"left\">casual</th>\n",
       "      <th colspan=\"2\" halign=\"left\">registered</th>\n",
       "      <th colspan=\"2\" halign=\"left\">cnt</th>\n",
       "    </tr>\n",
       "    <tr>\n",
       "      <th></th>\n",
       "      <th>sum</th>\n",
       "      <th>mean</th>\n",
       "      <th>sum</th>\n",
       "      <th>mean</th>\n",
       "      <th>sum</th>\n",
       "      <th>mean</th>\n",
       "    </tr>\n",
       "    <tr>\n",
       "      <th>holiday</th>\n",
       "      <th></th>\n",
       "      <th></th>\n",
       "      <th></th>\n",
       "      <th></th>\n",
       "      <th></th>\n",
       "      <th></th>\n",
       "    </tr>\n",
       "  </thead>\n",
       "  <tbody>\n",
       "    <tr>\n",
       "      <th>0</th>\n",
       "      <td>597658</td>\n",
       "      <td>841.771831</td>\n",
       "      <td>2616586</td>\n",
       "      <td>3685.332394</td>\n",
       "      <td>3214244</td>\n",
       "      <td>4527.104225</td>\n",
       "    </tr>\n",
       "    <tr>\n",
       "      <th>1</th>\n",
       "      <td>22359</td>\n",
       "      <td>1064.714286</td>\n",
       "      <td>56076</td>\n",
       "      <td>2670.285714</td>\n",
       "      <td>78435</td>\n",
       "      <td>3735.000000</td>\n",
       "    </tr>\n",
       "  </tbody>\n",
       "</table>\n",
       "</div>"
      ],
      "text/plain": [
       "         casual              registered                   cnt             \n",
       "            sum         mean        sum         mean      sum         mean\n",
       "holiday                                                                   \n",
       "0        597658   841.771831    2616586  3685.332394  3214244  4527.104225\n",
       "1         22359  1064.714286      56076  2670.285714    78435  3735.000000"
      ]
     },
     "execution_count": 75,
     "metadata": {},
     "output_type": "execute_result"
    }
   ],
   "source": [
    "day.groupby(by=\"holiday\").agg({\n",
    "    \"casual\": [\"sum\", \"mean\"],\n",
    "    \"registered\": [\"sum\", \"mean\"],\n",
    "    \"cnt\": [\"sum\", \"mean\"]\n",
    "})"
   ]
  },
  {
   "cell_type": "markdown",
   "metadata": {},
   "source": [
    "MEMBUAT PIVOT TABEL JUMLAH DAN RATA RATA PENYEWA BERDASARKAN HOLIDAY (HARI LIBUR) YANG DIBAGI BERDASARKAN CASUAL(BUKAN MEMBER), REGISTERED (MEMBER), AND CNT (TOTAL MEMBER DAN NON MEMBER)"
   ]
  },
  {
   "cell_type": "code",
   "execution_count": null,
   "metadata": {},
   "outputs": [
    {
     "data": {
      "text/html": [
       "<div>\n",
       "<style scoped>\n",
       "    .dataframe tbody tr th:only-of-type {\n",
       "        vertical-align: middle;\n",
       "    }\n",
       "\n",
       "    .dataframe tbody tr th {\n",
       "        vertical-align: top;\n",
       "    }\n",
       "\n",
       "    .dataframe thead tr th {\n",
       "        text-align: left;\n",
       "    }\n",
       "\n",
       "    .dataframe thead tr:last-of-type th {\n",
       "        text-align: right;\n",
       "    }\n",
       "</style>\n",
       "<table border=\"1\" class=\"dataframe\">\n",
       "  <thead>\n",
       "    <tr>\n",
       "      <th></th>\n",
       "      <th colspan=\"2\" halign=\"left\">casual</th>\n",
       "      <th colspan=\"2\" halign=\"left\">registered</th>\n",
       "      <th colspan=\"2\" halign=\"left\">cnt</th>\n",
       "    </tr>\n",
       "    <tr>\n",
       "      <th></th>\n",
       "      <th>sum</th>\n",
       "      <th>mean</th>\n",
       "      <th>sum</th>\n",
       "      <th>mean</th>\n",
       "      <th>sum</th>\n",
       "      <th>mean</th>\n",
       "    </tr>\n",
       "    <tr>\n",
       "      <th>workingday</th>\n",
       "      <th></th>\n",
       "      <th></th>\n",
       "      <th></th>\n",
       "      <th></th>\n",
       "      <th></th>\n",
       "      <th></th>\n",
       "    </tr>\n",
       "  </thead>\n",
       "  <tbody>\n",
       "    <tr>\n",
       "      <th>0</th>\n",
       "      <td>316732</td>\n",
       "      <td>1371.134199</td>\n",
       "      <td>683537</td>\n",
       "      <td>2959.034632</td>\n",
       "      <td>1000269</td>\n",
       "      <td>4330.168831</td>\n",
       "    </tr>\n",
       "    <tr>\n",
       "      <th>1</th>\n",
       "      <td>303285</td>\n",
       "      <td>606.570000</td>\n",
       "      <td>1989125</td>\n",
       "      <td>3978.250000</td>\n",
       "      <td>2292410</td>\n",
       "      <td>4584.820000</td>\n",
       "    </tr>\n",
       "  </tbody>\n",
       "</table>\n",
       "</div>"
      ],
      "text/plain": [
       "            casual              registered                   cnt             \n",
       "               sum         mean        sum         mean      sum         mean\n",
       "workingday                                                                   \n",
       "0           316732  1371.134199     683537  2959.034632  1000269  4330.168831\n",
       "1           303285   606.570000    1989125  3978.250000  2292410  4584.820000"
      ]
     },
     "execution_count": 76,
     "metadata": {},
     "output_type": "execute_result"
    }
   ],
   "source": [
    "day.groupby(by=\"workingday\").agg({\n",
    "    \"casual\": [\"sum\", \"mean\"],\n",
    "    \"registered\": [\"sum\", \"mean\"],\n",
    "    \"cnt\": [\"sum\", \"mean\"]\n",
    "})"
   ]
  },
  {
   "cell_type": "markdown",
   "metadata": {},
   "source": [
    "MEMBUAT PIVOT TABEL JUMLAH DAN RATA RATA PENYEWA BERDASARKAN WORKING DAY (HARI KERJA) YANG DIBAGI BERDASARKAN CASUAL(BUKAN MEMBER), REGISTERED (MEMBER), AND CNT (TOTAL MEMBER DAN NON MEMBER)"
   ]
  },
  {
   "cell_type": "code",
   "execution_count": null,
   "metadata": {},
   "outputs": [
    {
     "data": {
      "text/html": [
       "<div>\n",
       "<style scoped>\n",
       "    .dataframe tbody tr th:only-of-type {\n",
       "        vertical-align: middle;\n",
       "    }\n",
       "\n",
       "    .dataframe tbody tr th {\n",
       "        vertical-align: top;\n",
       "    }\n",
       "\n",
       "    .dataframe thead tr th {\n",
       "        text-align: left;\n",
       "    }\n",
       "\n",
       "    .dataframe thead tr:last-of-type th {\n",
       "        text-align: right;\n",
       "    }\n",
       "</style>\n",
       "<table border=\"1\" class=\"dataframe\">\n",
       "  <thead>\n",
       "    <tr>\n",
       "      <th></th>\n",
       "      <th colspan=\"2\" halign=\"left\">casual</th>\n",
       "      <th colspan=\"2\" halign=\"left\">registered</th>\n",
       "      <th colspan=\"2\" halign=\"left\">cnt</th>\n",
       "    </tr>\n",
       "    <tr>\n",
       "      <th></th>\n",
       "      <th>sum</th>\n",
       "      <th>mean</th>\n",
       "      <th>sum</th>\n",
       "      <th>mean</th>\n",
       "      <th>sum</th>\n",
       "      <th>mean</th>\n",
       "    </tr>\n",
       "    <tr>\n",
       "      <th>weathersit</th>\n",
       "      <th></th>\n",
       "      <th></th>\n",
       "      <th></th>\n",
       "      <th></th>\n",
       "      <th></th>\n",
       "      <th></th>\n",
       "    </tr>\n",
       "  </thead>\n",
       "  <tbody>\n",
       "    <tr>\n",
       "      <th>1</th>\n",
       "      <td>446346</td>\n",
       "      <td>964.030238</td>\n",
       "      <td>1811606</td>\n",
       "      <td>3912.755940</td>\n",
       "      <td>2257952</td>\n",
       "      <td>4876.786177</td>\n",
       "    </tr>\n",
       "    <tr>\n",
       "      <th>2</th>\n",
       "      <td>169776</td>\n",
       "      <td>687.352227</td>\n",
       "      <td>827082</td>\n",
       "      <td>3348.510121</td>\n",
       "      <td>996858</td>\n",
       "      <td>4035.862348</td>\n",
       "    </tr>\n",
       "    <tr>\n",
       "      <th>3</th>\n",
       "      <td>3895</td>\n",
       "      <td>185.476190</td>\n",
       "      <td>33974</td>\n",
       "      <td>1617.809524</td>\n",
       "      <td>37869</td>\n",
       "      <td>1803.285714</td>\n",
       "    </tr>\n",
       "  </tbody>\n",
       "</table>\n",
       "</div>"
      ],
      "text/plain": [
       "            casual             registered                   cnt             \n",
       "               sum        mean        sum         mean      sum         mean\n",
       "weathersit                                                                  \n",
       "1           446346  964.030238    1811606  3912.755940  2257952  4876.786177\n",
       "2           169776  687.352227     827082  3348.510121   996858  4035.862348\n",
       "3             3895  185.476190      33974  1617.809524    37869  1803.285714"
      ]
     },
     "execution_count": 77,
     "metadata": {},
     "output_type": "execute_result"
    }
   ],
   "source": [
    "day.groupby(by=\"weathersit\").agg({\n",
    "    \"casual\": [\"sum\", \"mean\"],\n",
    "    \"registered\": [\"sum\", \"mean\"],\n",
    "    \"cnt\": [\"sum\", \"mean\"]\n",
    "})"
   ]
  },
  {
   "cell_type": "markdown",
   "metadata": {},
   "source": [
    "MEMBUAT PIVOT TABEL JUMLAH DAN RATA RATA PENYEWA BERDASARKAN WEATHERSIT DAY (KELOMPOK CUACA) YANG DIBAGI BERDASARKAN CASUAL(BUKAN MEMBER), REGISTERED (MEMBER), AND CNT (TOTAL MEMBER DAN NON MEMBER)"
   ]
  },
  {
   "cell_type": "code",
   "execution_count": null,
   "metadata": {},
   "outputs": [
    {
     "data": {
      "text/html": [
       "<div>\n",
       "<style scoped>\n",
       "    .dataframe tbody tr th:only-of-type {\n",
       "        vertical-align: middle;\n",
       "    }\n",
       "\n",
       "    .dataframe tbody tr th {\n",
       "        vertical-align: top;\n",
       "    }\n",
       "\n",
       "    .dataframe thead tr th {\n",
       "        text-align: left;\n",
       "    }\n",
       "\n",
       "    .dataframe thead tr:last-of-type th {\n",
       "        text-align: right;\n",
       "    }\n",
       "</style>\n",
       "<table border=\"1\" class=\"dataframe\">\n",
       "  <thead>\n",
       "    <tr>\n",
       "      <th></th>\n",
       "      <th colspan=\"2\" halign=\"left\">casual</th>\n",
       "      <th colspan=\"2\" halign=\"left\">registered</th>\n",
       "      <th colspan=\"2\" halign=\"left\">cnt</th>\n",
       "    </tr>\n",
       "    <tr>\n",
       "      <th></th>\n",
       "      <th>sum</th>\n",
       "      <th>mean</th>\n",
       "      <th>sum</th>\n",
       "      <th>mean</th>\n",
       "      <th>sum</th>\n",
       "      <th>mean</th>\n",
       "    </tr>\n",
       "    <tr>\n",
       "      <th>mnth</th>\n",
       "      <th></th>\n",
       "      <th></th>\n",
       "      <th></th>\n",
       "      <th></th>\n",
       "      <th></th>\n",
       "      <th></th>\n",
       "    </tr>\n",
       "  </thead>\n",
       "  <tbody>\n",
       "    <tr>\n",
       "      <th>1</th>\n",
       "      <td>12042</td>\n",
       "      <td>194.225806</td>\n",
       "      <td>122891</td>\n",
       "      <td>1982.112903</td>\n",
       "      <td>134933</td>\n",
       "      <td>2176.338710</td>\n",
       "    </tr>\n",
       "    <tr>\n",
       "      <th>2</th>\n",
       "      <td>14963</td>\n",
       "      <td>262.508772</td>\n",
       "      <td>136389</td>\n",
       "      <td>2392.789474</td>\n",
       "      <td>151352</td>\n",
       "      <td>2655.298246</td>\n",
       "    </tr>\n",
       "    <tr>\n",
       "      <th>3</th>\n",
       "      <td>44444</td>\n",
       "      <td>716.838710</td>\n",
       "      <td>184476</td>\n",
       "      <td>2975.419355</td>\n",
       "      <td>228920</td>\n",
       "      <td>3692.258065</td>\n",
       "    </tr>\n",
       "    <tr>\n",
       "      <th>4</th>\n",
       "      <td>60802</td>\n",
       "      <td>1013.366667</td>\n",
       "      <td>208292</td>\n",
       "      <td>3471.533333</td>\n",
       "      <td>269094</td>\n",
       "      <td>4484.900000</td>\n",
       "    </tr>\n",
       "    <tr>\n",
       "      <th>5</th>\n",
       "      <td>75285</td>\n",
       "      <td>1214.274194</td>\n",
       "      <td>256401</td>\n",
       "      <td>4135.500000</td>\n",
       "      <td>331686</td>\n",
       "      <td>5349.774194</td>\n",
       "    </tr>\n",
       "    <tr>\n",
       "      <th>6</th>\n",
       "      <td>73906</td>\n",
       "      <td>1231.766667</td>\n",
       "      <td>272436</td>\n",
       "      <td>4540.600000</td>\n",
       "      <td>346342</td>\n",
       "      <td>5772.366667</td>\n",
       "    </tr>\n",
       "    <tr>\n",
       "      <th>7</th>\n",
       "      <td>78157</td>\n",
       "      <td>1260.596774</td>\n",
       "      <td>266791</td>\n",
       "      <td>4303.080645</td>\n",
       "      <td>344948</td>\n",
       "      <td>5563.677419</td>\n",
       "    </tr>\n",
       "    <tr>\n",
       "      <th>8</th>\n",
       "      <td>72039</td>\n",
       "      <td>1161.919355</td>\n",
       "      <td>279155</td>\n",
       "      <td>4502.500000</td>\n",
       "      <td>351194</td>\n",
       "      <td>5664.419355</td>\n",
       "    </tr>\n",
       "    <tr>\n",
       "      <th>9</th>\n",
       "      <td>70323</td>\n",
       "      <td>1172.050000</td>\n",
       "      <td>275668</td>\n",
       "      <td>4594.466667</td>\n",
       "      <td>345991</td>\n",
       "      <td>5766.516667</td>\n",
       "    </tr>\n",
       "    <tr>\n",
       "      <th>10</th>\n",
       "      <td>59760</td>\n",
       "      <td>963.870968</td>\n",
       "      <td>262592</td>\n",
       "      <td>4235.354839</td>\n",
       "      <td>322352</td>\n",
       "      <td>5199.225806</td>\n",
       "    </tr>\n",
       "    <tr>\n",
       "      <th>11</th>\n",
       "      <td>36603</td>\n",
       "      <td>610.050000</td>\n",
       "      <td>218228</td>\n",
       "      <td>3637.133333</td>\n",
       "      <td>254831</td>\n",
       "      <td>4247.183333</td>\n",
       "    </tr>\n",
       "    <tr>\n",
       "      <th>12</th>\n",
       "      <td>21693</td>\n",
       "      <td>349.887097</td>\n",
       "      <td>189343</td>\n",
       "      <td>3053.919355</td>\n",
       "      <td>211036</td>\n",
       "      <td>3403.806452</td>\n",
       "    </tr>\n",
       "  </tbody>\n",
       "</table>\n",
       "</div>"
      ],
      "text/plain": [
       "     casual              registered                  cnt             \n",
       "        sum         mean        sum         mean     sum         mean\n",
       "mnth                                                                 \n",
       "1     12042   194.225806     122891  1982.112903  134933  2176.338710\n",
       "2     14963   262.508772     136389  2392.789474  151352  2655.298246\n",
       "3     44444   716.838710     184476  2975.419355  228920  3692.258065\n",
       "4     60802  1013.366667     208292  3471.533333  269094  4484.900000\n",
       "5     75285  1214.274194     256401  4135.500000  331686  5349.774194\n",
       "6     73906  1231.766667     272436  4540.600000  346342  5772.366667\n",
       "7     78157  1260.596774     266791  4303.080645  344948  5563.677419\n",
       "8     72039  1161.919355     279155  4502.500000  351194  5664.419355\n",
       "9     70323  1172.050000     275668  4594.466667  345991  5766.516667\n",
       "10    59760   963.870968     262592  4235.354839  322352  5199.225806\n",
       "11    36603   610.050000     218228  3637.133333  254831  4247.183333\n",
       "12    21693   349.887097     189343  3053.919355  211036  3403.806452"
      ]
     },
     "execution_count": 78,
     "metadata": {},
     "output_type": "execute_result"
    }
   ],
   "source": [
    "day.groupby(by=\"mnth\").agg({\n",
    "    \"casual\": [\"sum\", \"mean\"],\n",
    "    \"registered\": [\"sum\", \"mean\"],\n",
    "    \"cnt\": [\"sum\", \"mean\"]\n",
    "})"
   ]
  },
  {
   "cell_type": "markdown",
   "metadata": {},
   "source": [
    "MEMBUAT PIVOT TABEL JUMLAH DAN RATA RATA PENYEWA BERDASARKAN BULAN YANG DIBAGI BERDASARKAN CASUAL(BUKAN MEMBER), REGISTERED (MEMBER), AND CNT (TOTAL MEMBER DAN NON MEMBER)"
   ]
  },
  {
   "cell_type": "code",
   "execution_count": null,
   "metadata": {},
   "outputs": [
    {
     "data": {
      "text/html": [
       "<div>\n",
       "<style scoped>\n",
       "    .dataframe tbody tr th:only-of-type {\n",
       "        vertical-align: middle;\n",
       "    }\n",
       "\n",
       "    .dataframe tbody tr th {\n",
       "        vertical-align: top;\n",
       "    }\n",
       "\n",
       "    .dataframe thead tr th {\n",
       "        text-align: left;\n",
       "    }\n",
       "\n",
       "    .dataframe thead tr:last-of-type th {\n",
       "        text-align: right;\n",
       "    }\n",
       "</style>\n",
       "<table border=\"1\" class=\"dataframe\">\n",
       "  <thead>\n",
       "    <tr>\n",
       "      <th></th>\n",
       "      <th colspan=\"2\" halign=\"left\">casual</th>\n",
       "      <th colspan=\"2\" halign=\"left\">registered</th>\n",
       "      <th colspan=\"2\" halign=\"left\">cnt</th>\n",
       "    </tr>\n",
       "    <tr>\n",
       "      <th></th>\n",
       "      <th>sum</th>\n",
       "      <th>mean</th>\n",
       "      <th>sum</th>\n",
       "      <th>mean</th>\n",
       "      <th>sum</th>\n",
       "      <th>mean</th>\n",
       "    </tr>\n",
       "    <tr>\n",
       "      <th>season</th>\n",
       "      <th></th>\n",
       "      <th></th>\n",
       "      <th></th>\n",
       "      <th></th>\n",
       "      <th></th>\n",
       "      <th></th>\n",
       "    </tr>\n",
       "  </thead>\n",
       "  <tbody>\n",
       "    <tr>\n",
       "      <th>1</th>\n",
       "      <td>60622</td>\n",
       "      <td>334.928177</td>\n",
       "      <td>410726</td>\n",
       "      <td>2269.204420</td>\n",
       "      <td>471348</td>\n",
       "      <td>2604.132597</td>\n",
       "    </tr>\n",
       "    <tr>\n",
       "      <th>2</th>\n",
       "      <td>203522</td>\n",
       "      <td>1106.097826</td>\n",
       "      <td>715067</td>\n",
       "      <td>3886.233696</td>\n",
       "      <td>918589</td>\n",
       "      <td>4992.331522</td>\n",
       "    </tr>\n",
       "    <tr>\n",
       "      <th>3</th>\n",
       "      <td>226091</td>\n",
       "      <td>1202.611702</td>\n",
       "      <td>835038</td>\n",
       "      <td>4441.691489</td>\n",
       "      <td>1061129</td>\n",
       "      <td>5644.303191</td>\n",
       "    </tr>\n",
       "    <tr>\n",
       "      <th>4</th>\n",
       "      <td>129782</td>\n",
       "      <td>729.112360</td>\n",
       "      <td>711831</td>\n",
       "      <td>3999.050562</td>\n",
       "      <td>841613</td>\n",
       "      <td>4728.162921</td>\n",
       "    </tr>\n",
       "  </tbody>\n",
       "</table>\n",
       "</div>"
      ],
      "text/plain": [
       "        casual              registered                   cnt             \n",
       "           sum         mean        sum         mean      sum         mean\n",
       "season                                                                   \n",
       "1        60622   334.928177     410726  2269.204420   471348  2604.132597\n",
       "2       203522  1106.097826     715067  3886.233696   918589  4992.331522\n",
       "3       226091  1202.611702     835038  4441.691489  1061129  5644.303191\n",
       "4       129782   729.112360     711831  3999.050562   841613  4728.162921"
      ]
     },
     "execution_count": 79,
     "metadata": {},
     "output_type": "execute_result"
    }
   ],
   "source": [
    "day.groupby(by=\"season\").agg({\n",
    "    \"casual\": [\"sum\", \"mean\"],\n",
    "    \"registered\": [\"sum\", \"mean\"],\n",
    "    \"cnt\": [\"sum\", \"mean\"]\n",
    "})"
   ]
  },
  {
   "cell_type": "markdown",
   "metadata": {},
   "source": [
    "MEMBUAT PIVOT TABEL JUMLAH DAN RATA RATA PENYEWA BERDASARKAN MUSIM YANG DIBAGI BERDASARKAN CASUAL(BUKAN MEMBER), REGISTERED (MEMBER), AND CNT (TOTAL MEMBER DAN NON MEMBER)"
   ]
  },
  {
   "cell_type": "code",
   "execution_count": null,
   "metadata": {},
   "outputs": [
    {
     "data": {
      "text/html": [
       "<div>\n",
       "<style scoped>\n",
       "    .dataframe tbody tr th:only-of-type {\n",
       "        vertical-align: middle;\n",
       "    }\n",
       "\n",
       "    .dataframe tbody tr th {\n",
       "        vertical-align: top;\n",
       "    }\n",
       "\n",
       "    .dataframe thead th {\n",
       "        text-align: right;\n",
       "    }\n",
       "</style>\n",
       "<table border=\"1\" class=\"dataframe\">\n",
       "  <thead>\n",
       "    <tr style=\"text-align: right;\">\n",
       "      <th></th>\n",
       "      <th></th>\n",
       "      <th>temp</th>\n",
       "      <th>hum</th>\n",
       "      <th>windspeed</th>\n",
       "      <th>cnt</th>\n",
       "    </tr>\n",
       "    <tr>\n",
       "      <th>season</th>\n",
       "      <th>mnth</th>\n",
       "      <th></th>\n",
       "      <th></th>\n",
       "      <th></th>\n",
       "      <th></th>\n",
       "    </tr>\n",
       "  </thead>\n",
       "  <tbody>\n",
       "    <tr>\n",
       "      <th rowspan=\"4\" valign=\"top\">1</th>\n",
       "      <th>1</th>\n",
       "      <td>0.236444</td>\n",
       "      <td>0.585828</td>\n",
       "      <td>0.206303</td>\n",
       "      <td>134933</td>\n",
       "    </tr>\n",
       "    <tr>\n",
       "      <th>2</th>\n",
       "      <td>0.299226</td>\n",
       "      <td>0.567465</td>\n",
       "      <td>0.215684</td>\n",
       "      <td>151352</td>\n",
       "    </tr>\n",
       "    <tr>\n",
       "      <th>3</th>\n",
       "      <td>0.390549</td>\n",
       "      <td>0.569831</td>\n",
       "      <td>0.226236</td>\n",
       "      <td>142065</td>\n",
       "    </tr>\n",
       "    <tr>\n",
       "      <th>12</th>\n",
       "      <td>0.297951</td>\n",
       "      <td>0.638425</td>\n",
       "      <td>0.213500</td>\n",
       "      <td>42998</td>\n",
       "    </tr>\n",
       "    <tr>\n",
       "      <th rowspan=\"4\" valign=\"top\">2</th>\n",
       "      <th>3</th>\n",
       "      <td>0.390520</td>\n",
       "      <td>0.622373</td>\n",
       "      <td>0.216269</td>\n",
       "      <td>86855</td>\n",
       "    </tr>\n",
       "    <tr>\n",
       "      <th>4</th>\n",
       "      <td>0.469999</td>\n",
       "      <td>0.588063</td>\n",
       "      <td>0.234482</td>\n",
       "      <td>269094</td>\n",
       "    </tr>\n",
       "    <tr>\n",
       "      <th>5</th>\n",
       "      <td>0.594798</td>\n",
       "      <td>0.688958</td>\n",
       "      <td>0.182989</td>\n",
       "      <td>331686</td>\n",
       "    </tr>\n",
       "    <tr>\n",
       "      <th>6</th>\n",
       "      <td>0.662542</td>\n",
       "      <td>0.591677</td>\n",
       "      <td>0.181829</td>\n",
       "      <td>230954</td>\n",
       "    </tr>\n",
       "    <tr>\n",
       "      <th rowspan=\"4\" valign=\"top\">3</th>\n",
       "      <th>6</th>\n",
       "      <td>0.727208</td>\n",
       "      <td>0.544063</td>\n",
       "      <td>0.192602</td>\n",
       "      <td>115388</td>\n",
       "    </tr>\n",
       "    <tr>\n",
       "      <th>7</th>\n",
       "      <td>0.755470</td>\n",
       "      <td>0.597876</td>\n",
       "      <td>0.166059</td>\n",
       "      <td>344948</td>\n",
       "    </tr>\n",
       "    <tr>\n",
       "      <th>8</th>\n",
       "      <td>0.708582</td>\n",
       "      <td>0.637730</td>\n",
       "      <td>0.172918</td>\n",
       "      <td>351194</td>\n",
       "    </tr>\n",
       "    <tr>\n",
       "      <th>9</th>\n",
       "      <td>0.624335</td>\n",
       "      <td>0.718313</td>\n",
       "      <td>0.170119</td>\n",
       "      <td>249599</td>\n",
       "    </tr>\n",
       "    <tr>\n",
       "      <th rowspan=\"4\" valign=\"top\">4</th>\n",
       "      <th>9</th>\n",
       "      <td>0.594896</td>\n",
       "      <td>0.704818</td>\n",
       "      <td>0.154466</td>\n",
       "      <td>96392</td>\n",
       "    </tr>\n",
       "    <tr>\n",
       "      <th>10</th>\n",
       "      <td>0.485012</td>\n",
       "      <td>0.693761</td>\n",
       "      <td>0.175205</td>\n",
       "      <td>322352</td>\n",
       "    </tr>\n",
       "    <tr>\n",
       "      <th>11</th>\n",
       "      <td>0.369220</td>\n",
       "      <td>0.624876</td>\n",
       "      <td>0.183801</td>\n",
       "      <td>254831</td>\n",
       "    </tr>\n",
       "    <tr>\n",
       "      <th>12</th>\n",
       "      <td>0.338375</td>\n",
       "      <td>0.681229</td>\n",
       "      <td>0.156319</td>\n",
       "      <td>168038</td>\n",
       "    </tr>\n",
       "  </tbody>\n",
       "</table>\n",
       "</div>"
      ],
      "text/plain": [
       "                 temp       hum  windspeed     cnt\n",
       "season mnth                                       \n",
       "1      1     0.236444  0.585828   0.206303  134933\n",
       "       2     0.299226  0.567465   0.215684  151352\n",
       "       3     0.390549  0.569831   0.226236  142065\n",
       "       12    0.297951  0.638425   0.213500   42998\n",
       "2      3     0.390520  0.622373   0.216269   86855\n",
       "       4     0.469999  0.588063   0.234482  269094\n",
       "       5     0.594798  0.688958   0.182989  331686\n",
       "       6     0.662542  0.591677   0.181829  230954\n",
       "3      6     0.727208  0.544063   0.192602  115388\n",
       "       7     0.755470  0.597876   0.166059  344948\n",
       "       8     0.708582  0.637730   0.172918  351194\n",
       "       9     0.624335  0.718313   0.170119  249599\n",
       "4      9     0.594896  0.704818   0.154466   96392\n",
       "       10    0.485012  0.693761   0.175205  322352\n",
       "       11    0.369220  0.624876   0.183801  254831\n",
       "       12    0.338375  0.681229   0.156319  168038"
      ]
     },
     "execution_count": 80,
     "metadata": {},
     "output_type": "execute_result"
    }
   ],
   "source": [
    "day.groupby(by=[\"season\",\"mnth\"]).agg({\n",
    "    \"temp\": \"mean\",\n",
    "    \"hum\": \"mean\",\n",
    "    \"windspeed\": \"mean\",\n",
    "    \"cnt\": \"sum\"\n",
    "})"
   ]
  },
  {
   "cell_type": "markdown",
   "metadata": {},
   "source": [
    "MEMBUAT PIVOT TABEL JUMLAH DAN RATA RATA PENYEWA BERDASARKAN MUSIM DAN BULAN YANG DIBAGI BERDASARKAN CASUAL(BUKAN MEMBER), REGISTERED (MEMBER), AND CNT (TOTAL MEMBER DAN NON MEMBER)"
   ]
  },
  {
   "cell_type": "code",
   "execution_count": null,
   "metadata": {},
   "outputs": [
    {
     "data": {
      "text/html": [
       "<div>\n",
       "<style scoped>\n",
       "    .dataframe tbody tr th:only-of-type {\n",
       "        vertical-align: middle;\n",
       "    }\n",
       "\n",
       "    .dataframe tbody tr th {\n",
       "        vertical-align: top;\n",
       "    }\n",
       "\n",
       "    .dataframe thead th {\n",
       "        text-align: right;\n",
       "    }\n",
       "</style>\n",
       "<table border=\"1\" class=\"dataframe\">\n",
       "  <thead>\n",
       "    <tr style=\"text-align: right;\">\n",
       "      <th></th>\n",
       "      <th></th>\n",
       "      <th>temp</th>\n",
       "      <th>hum</th>\n",
       "      <th>windspeed</th>\n",
       "      <th>cnt</th>\n",
       "    </tr>\n",
       "    <tr>\n",
       "      <th>season</th>\n",
       "      <th>weathersit</th>\n",
       "      <th></th>\n",
       "      <th></th>\n",
       "      <th></th>\n",
       "      <th></th>\n",
       "    </tr>\n",
       "  </thead>\n",
       "  <tbody>\n",
       "    <tr>\n",
       "      <th rowspan=\"3\" valign=\"top\">1</th>\n",
       "      <th>1</th>\n",
       "      <td>0.301221</td>\n",
       "      <td>0.514689</td>\n",
       "      <td>0.225780</td>\n",
       "      <td>312036</td>\n",
       "    </tr>\n",
       "    <tr>\n",
       "      <th>2</th>\n",
       "      <td>0.293678</td>\n",
       "      <td>0.696331</td>\n",
       "      <td>0.191023</td>\n",
       "      <td>155573</td>\n",
       "    </tr>\n",
       "    <tr>\n",
       "      <th>3</th>\n",
       "      <td>0.268523</td>\n",
       "      <td>0.604271</td>\n",
       "      <td>0.290517</td>\n",
       "      <td>3739</td>\n",
       "    </tr>\n",
       "    <tr>\n",
       "      <th rowspan=\"3\" valign=\"top\">2</th>\n",
       "      <th>1</th>\n",
       "      <td>0.563402</td>\n",
       "      <td>0.552617</td>\n",
       "      <td>0.202740</td>\n",
       "      <td>626986</td>\n",
       "    </tr>\n",
       "    <tr>\n",
       "      <th>2</th>\n",
       "      <td>0.520739</td>\n",
       "      <td>0.739276</td>\n",
       "      <td>0.200482</td>\n",
       "      <td>288096</td>\n",
       "    </tr>\n",
       "    <tr>\n",
       "      <th>3</th>\n",
       "      <td>0.365278</td>\n",
       "      <td>0.880694</td>\n",
       "      <td>0.301000</td>\n",
       "      <td>3507</td>\n",
       "    </tr>\n",
       "    <tr>\n",
       "      <th rowspan=\"3\" valign=\"top\">3</th>\n",
       "      <th>1</th>\n",
       "      <td>0.720862</td>\n",
       "      <td>0.589422</td>\n",
       "      <td>0.170204</td>\n",
       "      <td>799443</td>\n",
       "    </tr>\n",
       "    <tr>\n",
       "      <th>2</th>\n",
       "      <td>0.674583</td>\n",
       "      <td>0.735920</td>\n",
       "      <td>0.174148</td>\n",
       "      <td>250679</td>\n",
       "    </tr>\n",
       "    <tr>\n",
       "      <th>3</th>\n",
       "      <td>0.592228</td>\n",
       "      <td>0.902255</td>\n",
       "      <td>0.211753</td>\n",
       "      <td>11007</td>\n",
       "    </tr>\n",
       "    <tr>\n",
       "      <th rowspan=\"3\" valign=\"top\">4</th>\n",
       "      <th>1</th>\n",
       "      <td>0.404918</td>\n",
       "      <td>0.603229</td>\n",
       "      <td>0.164738</td>\n",
       "      <td>519487</td>\n",
       "    </tr>\n",
       "    <tr>\n",
       "      <th>2</th>\n",
       "      <td>0.446267</td>\n",
       "      <td>0.734481</td>\n",
       "      <td>0.176139</td>\n",
       "      <td>302510</td>\n",
       "    </tr>\n",
       "    <tr>\n",
       "      <th>3</th>\n",
       "      <td>0.456341</td>\n",
       "      <td>0.915813</td>\n",
       "      <td>0.219797</td>\n",
       "      <td>19616</td>\n",
       "    </tr>\n",
       "  </tbody>\n",
       "</table>\n",
       "</div>"
      ],
      "text/plain": [
       "                       temp       hum  windspeed     cnt\n",
       "season weathersit                                       \n",
       "1      1           0.301221  0.514689   0.225780  312036\n",
       "       2           0.293678  0.696331   0.191023  155573\n",
       "       3           0.268523  0.604271   0.290517    3739\n",
       "2      1           0.563402  0.552617   0.202740  626986\n",
       "       2           0.520739  0.739276   0.200482  288096\n",
       "       3           0.365278  0.880694   0.301000    3507\n",
       "3      1           0.720862  0.589422   0.170204  799443\n",
       "       2           0.674583  0.735920   0.174148  250679\n",
       "       3           0.592228  0.902255   0.211753   11007\n",
       "4      1           0.404918  0.603229   0.164738  519487\n",
       "       2           0.446267  0.734481   0.176139  302510\n",
       "       3           0.456341  0.915813   0.219797   19616"
      ]
     },
     "execution_count": 81,
     "metadata": {},
     "output_type": "execute_result"
    }
   ],
   "source": [
    "day.groupby(by=[\"season\",\"weathersit\"]).agg({\n",
    "    \"temp\": \"mean\",\n",
    "    \"hum\": \"mean\",\n",
    "    \"windspeed\": \"mean\",\n",
    "    \"cnt\": \"sum\"\n",
    "})"
   ]
  },
  {
   "cell_type": "markdown",
   "metadata": {},
   "source": [
    "MEMBUAT PIVOT TABEL JUMLAH DAN RATA RATA PENYEWA BERDASARKAN MUSIM DAN KELOMPOK CUACA YANG DIBAGI BERDASARKAN CASUAL(BUKAN MEMBER), REGISTERED (MEMBER), AND CNT (TOTAL MEMBER DAN NON MEMBER)"
   ]
  },
  {
   "cell_type": "markdown",
   "metadata": {
    "id": "th_Lzl2Fkj9O"
   },
   "source": [
    "**Insight:**\n",
    "- JUMLAH DAN RATA-RATA PENYEWA TERBANYAK BERADA DI PUKUL 17.00-17.59, JIKA DILIHAT DARI KELOMPOKNYA PENYEWA YANG TEREGISTRASI PALING BANYAK MENYEWA DI PUKUL 17.00-17.59, NAMUN UNTUK KELOMPOK CASUAL PALING BANYAK MENYEWA PADA PUKUL 14.00-14.59\n",
    "- JUMLAH DAN RATA-RATA PENYEWA TERBANYAK BERADA DI HARI JUMAT (KODE 5), NAMUN JIKA DILIHAT DARI KELOMPOK PENYEWA, PENYEWA YANG TEREGISTRASI PALING BANYAK MENYEWA DI HARI KAMIS (KODE 4), SEDANGKAN UNTUK KELOMPOK CASUAL PALING BANYAK MENYEWA DI HARI SABTU DAN MINGGU (KODE 0 DAN 6)\n",
    "- JUMLAH DAN RATA-RATA PENYEWA PALING BANYAK PADA BUKAN HARI LIBUR, INI SEJALAN DENGAN KELOMPOK PENYEWA TERIGTRASI, NAMUN UNTUK PENYEWA CASUAL PALING BANYAK MENYEWA DI HARI LIBUR\n",
    "- JUMLAH DAN RATA-RATA PENYEWA PALING BANYAK PADA HARI KERJA, INI SEJALAN DENGAN KELOMPOK PENYEWA TEREGISTRASI, NAMUN UNTUK PENYEWA CASUAL PALING BANYAK PADA HARI SELAIN HARI KERJA\n",
    "- JUMLAH DAN RATA-RATA PENYEWA PALING BANYAK PADA SAAT CUACA CERAH, SEDIKIT BERAWAN DAN BERAWAN SEBAGIAN, BEGITU PULA JIKA DILIHAT BERDASALKAN KELOMPOK PENYEWA\n",
    "- JUMLAH DAN RATA-RATA PENYEWA PALING BANYAK PADA BULAN JUNI (6),  NAMUN JIKA DILHAT DARI KELOMPOK PENYEWA, PENYEWA TEREGISTRASI PALING BANYAK PADA BULAN SEPTEMBER (9), SEDANGKAN KELOMPOK PENYEWA CASUAL PALING BANYAK PADA BULAN JULI (7)\n",
    "- JUMLAH DAN RATA-RATA PENYEWA PALING BANYAK PADA MUSIM GUGUR (3), BAIK UNTUK PENYEWA CASUAL MAUPUN TEREGISTRASI\n",
    "- JUMLAH PENYEWA PALING BANYAK BULAN AGUSTUS PADA MUSIM GUGUR SAAT RATA-RATA SUHU AGAK TINGGI, KELEMBAPAN UDARA SEDANG, DAN KECEPATAN ANGIN CENDERUNG RENDAH\n",
    "- JUMLAH PENYEWA PALING BANYAK PADA SAAT CUACA CERAH, SEDIKIT BERAWAN, ATAU SEBAGIAN BERAWAN PADA MUSIM GUGUR, SAAT SUHU TINGGI, KELEMBAPAN RENDAH, DAN KECEPATAN ANGIN RENDAH\n",
    "- RATA-RATA PENYEWA PALING BANYAK PADA SAAT SORE HARI DAN PALING SEDIKIT SAAT DINI HARI"
   ]
  },
  {
   "cell_type": "markdown",
   "metadata": {
    "id": "zsyZjqak8DC2"
   },
   "source": [
    "## Visualization & Explanatory Analysis"
   ]
  },
  {
   "cell_type": "markdown",
   "metadata": {
    "id": "HZxOiQ6n8DC2"
   },
   "source": [
    "### Pertanyaan 1:"
   ]
  },
  {
   "cell_type": "markdown",
   "metadata": {},
   "source": [
    "- Bagaimana tingkat penyewaan sepeda dalam beberapa bulan terakhir?"
   ]
  },
  {
   "cell_type": "markdown",
   "metadata": {
    "id": "DgHI7CiU8DC2"
   },
   "source": [
    "### Pertanyaan 2:"
   ]
  },
  {
   "cell_type": "markdown",
   "metadata": {},
   "source": [
    "- Kapan penyewaan sepeda paling banyak dan paling sedikit disewa oleh pengguna?"
   ]
  },
  {
   "cell_type": "code",
   "execution_count": null,
   "metadata": {},
   "outputs": [
    {
     "name": "stderr",
     "output_type": "stream",
     "text": [
      "C:\\Users\\Public\\Documents\\Wondershare\\CreatorTemp\\ipykernel_8572\\2219545054.py:4: FutureWarning: 'M' is deprecated and will be removed in a future version, please use 'ME' instead.\n",
      "  month = filtered_hour.resample(rule='M', on='dteday').agg({\n"
     ]
    },
    {
     "data": {
      "image/png": "[encoded data removed]",
      "text/plain": [
       "<Figure size 1000x500 with 1 Axes>"
      ]
     },
     "metadata": {},
     "output_type": "display_data"
    }
   ],
   "source": [
    "filtered_hour = hour[hour['dteday'] >= \"2012-01-01\"] ###FILTER DATA UNTUK TAHUN 2012###\n",
    "filtered_hour.head() ###MENAMPILKAN 5 DATA TERATAS###\n",
    "\n",
    "month = filtered_hour.resample(rule='M', on='dteday').agg({\n",
    "    \"temp\": \"mean\",\n",
    "    \"hum\": \"mean\",\n",
    "    \"windspeed\": \"mean\",\n",
    "    \"casual\": \"sum\",\n",
    "    \"registered\": \"sum\",\n",
    "    \"cnt\": \"sum\"\n",
    "}) ###MEMBUAT VARIABEL MONTH DENGAN MELAKUKAN RESAMPLE BERDASARKAN BULAN PADA VARIABEL DTEDAY PADA DATA PENYEWA PERJAM YANG TELAH DIFILTER TAHUN 2012###\n",
    "month.index = month.index.strftime('%B') ###MENGUBAH INDEKS MENJADI NAMA BULAN###\n",
    "month = month.reset_index() ###MELAKUKAN RESET INDEKS###\n",
    "month.rename(columns={\n",
    "    \"temp\": \"suhu\",\n",
    "    \"hum\": \"kelembapan\",\n",
    "    \"windspeed\": \"kecepatan_angin\",\n",
    "    \"casual\": \"non_member\",\n",
    "    \"registered\": \"member\",\n",
    "    \"cnt\": \"all_pelanggan\"\n",
    "},inplace=True) ###MELAKUKAN GANTI NAMA KOLOM ###\n",
    "plt.figure(figsize=(10, 5)) \n",
    "plt.plot(month[\"dteday\"], month[\"all_pelanggan\"], marker='o', linewidth=2, color=\"#72BCD4\") \n",
    "plt.title(\"Jumlah Penyewa Sepeda Per Bulan Tahun 2012\", loc=\"center\", fontsize=20) \n",
    "plt.xticks(fontsize=10, rotation = 45) \n",
    "plt.yticks(fontsize=10) \n",
    "plt.show() ###MEMBUAT GRAFIK GARIS DARI JUMLAH PENYEWA PER BULAN###"
   ]
  },
  {
   "cell_type": "markdown",
   "metadata": {},
   "source": [
    "MEMBUAT GRAFIK GARIS JUMLAH PENYEWA PERBULAN MENGGUNAKAN DATA PENYEWA PER JAM DENGAN MEMANFAATKAN VARIABEL DTEDAY (TANGGAL)"
   ]
  },
  {
   "cell_type": "code",
   "execution_count": null,
   "metadata": {},
   "outputs": [
    {
     "data": {
      "text/plain": [
       "Text(0.5, 1.0, 'Perbandingan Penyewa Member dan Non Member')"
      ]
     },
     "execution_count": 85,
     "metadata": {},
     "output_type": "execute_result"
    },
    {
     "data": {
      "image/png": "[encoded data removed]",
      "text/plain": [
       "<Figure size 640x480 with 1 Axes>"
      ]
     },
     "metadata": {},
     "output_type": "display_data"
    }
   ],
   "source": [
    "sns.lineplot(data=month,x=\"dteday\", y=\"non_member\")\n",
    "sns.lineplot(data=month,x=\"dteday\", y=\"member\")\n",
    "plt.xticks(fontsize=10, rotation = 45) \n",
    "plt.title(\"Perbandingan Penyewa Member dan Non Member\")"
   ]
  },
  {
   "cell_type": "markdown",
   "metadata": {},
   "source": [
    "MEMBUAT PERBANDINGAN JUMLAH PENYEWA MEMBER DAN NON MEMBER DALAM SATU FRAME MENGGUNAKAN LIBRARY SEABORN"
   ]
  },
  {
   "cell_type": "code",
   "execution_count": null,
   "metadata": {},
   "outputs": [
    {
     "data": {
      "text/plain": [
       "<Axes: xlabel='dteday', ylabel='suhu'>"
      ]
     },
     "execution_count": 86,
     "metadata": {},
     "output_type": "execute_result"
    },
    {
     "data": {
      "image/png": "[encoded data removed]",
      "text/plain": [
       "<Figure size 640x480 with 2 Axes>"
      ]
     },
     "metadata": {},
     "output_type": "display_data"
    }
   ],
   "source": [
    "fig, ax1 = plt.subplots() \n",
    "sns.lineplot(data=month,x=\"dteday\", y=\"all_pelanggan\", ax=ax1, color = \"red\")\n",
    "plt.xticks(fontsize=10, rotation = 45) \n",
    "ax2 = ax1.twinx()\n",
    "sns.lineplot(data=month,x=\"dteday\", y=\"suhu\", ax=ax2)\n"
   ]
  },
  {
   "cell_type": "markdown",
   "metadata": {},
   "source": [
    "MELIHAT HUBUNGAN ANTARA JUMLAH PENYEWA DENGAN SUHU SETIAP BULAN"
   ]
  },
  {
   "cell_type": "code",
   "execution_count": null,
   "metadata": {},
   "outputs": [
    {
     "data": {
      "text/plain": [
       "<Axes: xlabel='dteday', ylabel='kelembapan'>"
      ]
     },
     "execution_count": 87,
     "metadata": {},
     "output_type": "execute_result"
    },
    {
     "data": {
      "image/png": "[encoded data removed]",
      "text/plain": [
       "<Figure size 640x480 with 2 Axes>"
      ]
     },
     "metadata": {},
     "output_type": "display_data"
    }
   ],
   "source": [
    "fig, ax1 = plt.subplots() \n",
    "sns.lineplot(data=month,x=\"dteday\", y=\"all_pelanggan\", ax=ax1, color = \"red\")\n",
    "plt.xticks(fontsize=10, rotation = 45) \n",
    "ax2 = ax1.twinx()\n",
    "sns.lineplot(data=month,x=\"dteday\", y=\"kelembapan\", ax=ax2)\n"
   ]
  },
  {
   "cell_type": "markdown",
   "metadata": {},
   "source": [
    "MELIHAT HUBUNGAN ANTARA JUMLAH PENYEWA DENGAN KELEMBAPAN SETIAP BULAN"
   ]
  },
  {
   "cell_type": "code",
   "execution_count": null,
   "metadata": {},
   "outputs": [
    {
     "data": {
      "text/plain": [
       "<Axes: xlabel='dteday', ylabel='kecepatan_angin'>"
      ]
     },
     "execution_count": 88,
     "metadata": {},
     "output_type": "execute_result"
    },
    {
     "data": {
      "image/png": "[encoded data removed]",
      "text/plain": [
       "<Figure size 640x480 with 2 Axes>"
      ]
     },
     "metadata": {},
     "output_type": "display_data"
    }
   ],
   "source": [
    "fig, ax1 = plt.subplots() \n",
    "sns.lineplot(data=month,x=\"dteday\", y=\"all_pelanggan\", ax=ax1, color = \"red\")\n",
    "plt.xticks(fontsize=10, rotation = 45) \n",
    "ax2 = ax1.twinx()\n",
    "sns.lineplot(data=month,x=\"dteday\", y=\"kecepatan_angin\", ax=ax2)\n"
   ]
  },
  {
   "cell_type": "markdown",
   "metadata": {},
   "source": [
    "MELIHAT HUBUNGAN ANTARA JUMLAH PENYEWA DENGAN KECEPATAN ANGIN SETIAP BULAN"
   ]
  },
  {
   "cell_type": "code",
   "execution_count": null,
   "metadata": {},
   "outputs": [
    {
     "data": {
      "text/html": [
       "<div>\n",
       "<style scoped>\n",
       "    .dataframe tbody tr th:only-of-type {\n",
       "        vertical-align: middle;\n",
       "    }\n",
       "\n",
       "    .dataframe tbody tr th {\n",
       "        vertical-align: top;\n",
       "    }\n",
       "\n",
       "    .dataframe thead th {\n",
       "        text-align: right;\n",
       "    }\n",
       "</style>\n",
       "<table border=\"1\" class=\"dataframe\">\n",
       "  <thead>\n",
       "    <tr style=\"text-align: right;\">\n",
       "      <th></th>\n",
       "      <th>dteday</th>\n",
       "      <th>season</th>\n",
       "      <th>weathersit</th>\n",
       "      <th>holiday</th>\n",
       "      <th>weekday</th>\n",
       "      <th>workingday</th>\n",
       "      <th>variable</th>\n",
       "      <th>value</th>\n",
       "      <th>month</th>\n",
       "    </tr>\n",
       "  </thead>\n",
       "  <tbody>\n",
       "    <tr>\n",
       "      <th>0</th>\n",
       "      <td>2011-01-01</td>\n",
       "      <td>1</td>\n",
       "      <td>2</td>\n",
       "      <td>0</td>\n",
       "      <td>6</td>\n",
       "      <td>0</td>\n",
       "      <td>casual</td>\n",
       "      <td>331</td>\n",
       "      <td>January</td>\n",
       "    </tr>\n",
       "    <tr>\n",
       "      <th>1</th>\n",
       "      <td>2011-01-02</td>\n",
       "      <td>1</td>\n",
       "      <td>2</td>\n",
       "      <td>0</td>\n",
       "      <td>0</td>\n",
       "      <td>0</td>\n",
       "      <td>casual</td>\n",
       "      <td>131</td>\n",
       "      <td>January</td>\n",
       "    </tr>\n",
       "    <tr>\n",
       "      <th>2</th>\n",
       "      <td>2011-01-03</td>\n",
       "      <td>1</td>\n",
       "      <td>1</td>\n",
       "      <td>0</td>\n",
       "      <td>1</td>\n",
       "      <td>1</td>\n",
       "      <td>casual</td>\n",
       "      <td>120</td>\n",
       "      <td>January</td>\n",
       "    </tr>\n",
       "    <tr>\n",
       "      <th>3</th>\n",
       "      <td>2011-01-04</td>\n",
       "      <td>1</td>\n",
       "      <td>1</td>\n",
       "      <td>0</td>\n",
       "      <td>2</td>\n",
       "      <td>1</td>\n",
       "      <td>casual</td>\n",
       "      <td>108</td>\n",
       "      <td>January</td>\n",
       "    </tr>\n",
       "    <tr>\n",
       "      <th>4</th>\n",
       "      <td>2011-01-05</td>\n",
       "      <td>1</td>\n",
       "      <td>1</td>\n",
       "      <td>0</td>\n",
       "      <td>3</td>\n",
       "      <td>1</td>\n",
       "      <td>casual</td>\n",
       "      <td>82</td>\n",
       "      <td>January</td>\n",
       "    </tr>\n",
       "  </tbody>\n",
       "</table>\n",
       "</div>"
      ],
      "text/plain": [
       "      dteday  season  weathersit  holiday  weekday  workingday variable  \\\n",
       "0 2011-01-01       1           2        0        6           0   casual   \n",
       "1 2011-01-02       1           2        0        0           0   casual   \n",
       "2 2011-01-03       1           1        0        1           1   casual   \n",
       "3 2011-01-04       1           1        0        2           1   casual   \n",
       "4 2011-01-05       1           1        0        3           1   casual   \n",
       "\n",
       "   value    month  \n",
       "0    331  January  \n",
       "1    131  January  \n",
       "2    120  January  \n",
       "3    108  January  \n",
       "4     82  January  "
      ]
     },
     "execution_count": 104,
     "metadata": {},
     "output_type": "execute_result"
    }
   ],
   "source": [
    "day_transformed = day.melt(id_vars=['dteday','season','weathersit','holiday','weekday','workingday'], value_vars=['casual','registered']) ###MENTRANSFORMASI VARIABEL CASUAL DAN REGISTERED MENJADI SATU VARIABEL KATEGORI DAN NILAINYA DISIMPAN DI VARIABEL VALUE\n",
    "day_transformed['month'] = day_transformed['dteday'].dt.strftime('%B') ###MEMBUAT VARIABEL BULAN YANG BERLABEL JANUARY - DESEMBER###\n",
    "day_transformed.head()"
   ]
  },
  {
   "cell_type": "code",
   "execution_count": null,
   "metadata": {},
   "outputs": [
    {
     "name": "stdout",
     "output_type": "stream",
     "text": [
      "<class 'pandas.core.frame.DataFrame'>\n",
      "RangeIndex: 1462 entries, 0 to 1461\n",
      "Data columns (total 9 columns):\n",
      " #   Column      Non-Null Count  Dtype         \n",
      "---  ------      --------------  -----         \n",
      " 0   dteday      1462 non-null   datetime64[ns]\n",
      " 1   season      1462 non-null   int64         \n",
      " 2   weathersit  1462 non-null   int64         \n",
      " 3   holiday     1462 non-null   int64         \n",
      " 4   weekday     1462 non-null   int64         \n",
      " 5   workingday  1462 non-null   int64         \n",
      " 6   variable    1462 non-null   object        \n",
      " 7   value       1462 non-null   int64         \n",
      " 8   month       1462 non-null   object        \n",
      "dtypes: datetime64[ns](1), int64(6), object(2)\n",
      "memory usage: 102.9+ KB\n"
     ]
    }
   ],
   "source": [
    "day_transformed.info()"
   ]
  },
  {
   "cell_type": "code",
   "execution_count": null,
   "metadata": {},
   "outputs": [
    {
     "name": "stderr",
     "output_type": "stream",
     "text": [
      "C:\\Users\\Public\\Documents\\Wondershare\\CreatorTemp\\ipykernel_8572\\4281648104.py:1: FutureWarning: Setting an item of incompatible dtype is deprecated and will raise an error in a future version of pandas. Value 'springer' has dtype incompatible with int64, please explicitly cast to a compatible dtype first.\n",
      "  day_transformed.loc[day_transformed[\"season\"] == 1, \"season\"] = \"springer\"\n"
     ]
    }
   ],
   "source": [
    "day_transformed.loc[day_transformed[\"season\"] == 1, \"season\"] = \"springer\"\n",
    "day_transformed.loc[day_transformed[\"season\"] == 2, \"season\"] = \"summer\"\n",
    "day_transformed.loc[day_transformed[\"season\"] == 3, \"season\"] = \"fall\"\n",
    "day_transformed.loc[day_transformed[\"season\"] == 4, \"season\"] = \"winter\"\n"
   ]
  },
  {
   "cell_type": "code",
   "execution_count": null,
   "metadata": {},
   "outputs": [
    {
     "name": "stderr",
     "output_type": "stream",
     "text": [
      "C:\\Users\\Public\\Documents\\Wondershare\\CreatorTemp\\ipykernel_8572\\548367087.py:1: FutureWarning: Setting an item of incompatible dtype is deprecated and will raise an error in a future version of pandas. Value 'Cerah' has dtype incompatible with int64, please explicitly cast to a compatible dtype first.\n",
      "  day_transformed.loc[day_transformed[\"weathersit\"] == 1, \"weathersit\"] = \"Cerah\"\n"
     ]
    }
   ],
   "source": [
    "day_transformed.loc[day_transformed[\"weathersit\"] == 1, \"weathersit\"] = \"Cerah\"\n",
    "day_transformed.loc[day_transformed[\"weathersit\"] == 2, \"weathersit\"] = \"Berkabut\"\n",
    "day_transformed.loc[day_transformed[\"weathersit\"] == 3, \"weathersit\"] = \"Hujan Ringan\"\n",
    "day_transformed.loc[day_transformed[\"weathersit\"] == 4, \"weathersit\"] = \"Cuaca Buruk\""
   ]
  },
  {
   "cell_type": "code",
   "execution_count": null,
   "metadata": {},
   "outputs": [
    {
     "name": "stderr",
     "output_type": "stream",
     "text": [
      "C:\\Users\\Public\\Documents\\Wondershare\\CreatorTemp\\ipykernel_8572\\2336791478.py:1: FutureWarning: Setting an item of incompatible dtype is deprecated and will raise an error in a future version of pandas. Value 'Senin' has dtype incompatible with int64, please explicitly cast to a compatible dtype first.\n",
      "  day_transformed.loc[day_transformed[\"weekday\"] == 1, \"weekday\"] = \"Senin\"\n"
     ]
    }
   ],
   "source": [
    "day_transformed.loc[day_transformed[\"weekday\"] == 1, \"weekday\"] = \"Senin\"\n",
    "day_transformed.loc[day_transformed[\"weekday\"] == 2, \"weekday\"] = \"Selasa\"\n",
    "day_transformed.loc[day_transformed[\"weekday\"] == 3, \"weekday\"] = \"Rabu\"\n",
    "day_transformed.loc[day_transformed[\"weekday\"] == 4, \"weekday\"] = \"Kamis\"\n",
    "day_transformed.loc[day_transformed[\"weekday\"] == 5, \"weekday\"] = \"Jum'at\"\n",
    "day_transformed.loc[day_transformed[\"weekday\"] == 6, \"weekday\"] = \"Sabtu\"\n",
    "day_transformed.loc[day_transformed[\"weekday\"] == 0, \"weekday\"] = \"Minggu\""
   ]
  },
  {
   "cell_type": "code",
   "execution_count": null,
   "metadata": {},
   "outputs": [
    {
     "name": "stderr",
     "output_type": "stream",
     "text": [
      "C:\\Users\\Public\\Documents\\Wondershare\\CreatorTemp\\ipykernel_8572\\3762191456.py:1: FutureWarning: Setting an item of incompatible dtype is deprecated and will raise an error in a future version of pandas. Value 'Libur' has dtype incompatible with int64, please explicitly cast to a compatible dtype first.\n",
      "  day_transformed.loc[day_transformed[\"holiday\"] == 1, \"holiday\"] = \"Libur\"\n"
     ]
    }
   ],
   "source": [
    "day_transformed.loc[day_transformed[\"holiday\"] == 1, \"holiday\"] = \"Libur\"\n",
    "day_transformed.loc[day_transformed[\"holiday\"] == 0, \"holiday\"] = \"Tidak Libur\""
   ]
  },
  {
   "cell_type": "code",
   "execution_count": null,
   "metadata": {},
   "outputs": [
    {
     "name": "stderr",
     "output_type": "stream",
     "text": [
      "C:\\Users\\Public\\Documents\\Wondershare\\CreatorTemp\\ipykernel_8572\\3129285260.py:1: FutureWarning: Setting an item of incompatible dtype is deprecated and will raise an error in a future version of pandas. Value 'Bukan Hari Kerja' has dtype incompatible with int64, please explicitly cast to a compatible dtype first.\n",
      "  day_transformed.loc[day_transformed[\"workingday\"] == 0, \"workingday\"] = \"Bukan Hari Kerja\"\n"
     ]
    }
   ],
   "source": [
    "day_transformed.loc[day_transformed[\"workingday\"] == 0, \"workingday\"] = \"Bukan Hari Kerja\"\n",
    "day_transformed.loc[day_transformed[\"workingday\"] == 1, \"workingday\"] = \"Hari Kerja\""
   ]
  },
  {
   "cell_type": "code",
   "execution_count": null,
   "metadata": {},
   "outputs": [
    {
     "data": {
      "text/html": [
       "<div>\n",
       "<style scoped>\n",
       "    .dataframe tbody tr th:only-of-type {\n",
       "        vertical-align: middle;\n",
       "    }\n",
       "\n",
       "    .dataframe tbody tr th {\n",
       "        vertical-align: top;\n",
       "    }\n",
       "\n",
       "    .dataframe thead th {\n",
       "        text-align: right;\n",
       "    }\n",
       "</style>\n",
       "<table border=\"1\" class=\"dataframe\">\n",
       "  <thead>\n",
       "    <tr style=\"text-align: right;\">\n",
       "      <th></th>\n",
       "      <th>dteday</th>\n",
       "      <th>season</th>\n",
       "      <th>weathersit</th>\n",
       "      <th>holiday</th>\n",
       "      <th>weekday</th>\n",
       "      <th>workingday</th>\n",
       "      <th>variable</th>\n",
       "      <th>value</th>\n",
       "      <th>month</th>\n",
       "    </tr>\n",
       "  </thead>\n",
       "  <tbody>\n",
       "    <tr>\n",
       "      <th>0</th>\n",
       "      <td>2011-01-01</td>\n",
       "      <td>springer</td>\n",
       "      <td>Berkabut</td>\n",
       "      <td>Tidak Libur</td>\n",
       "      <td>Sabtu</td>\n",
       "      <td>Bukan Hari Kerja</td>\n",
       "      <td>casual</td>\n",
       "      <td>331</td>\n",
       "      <td>January</td>\n",
       "    </tr>\n",
       "    <tr>\n",
       "      <th>1</th>\n",
       "      <td>2011-01-02</td>\n",
       "      <td>springer</td>\n",
       "      <td>Berkabut</td>\n",
       "      <td>Tidak Libur</td>\n",
       "      <td>Minggu</td>\n",
       "      <td>Bukan Hari Kerja</td>\n",
       "      <td>casual</td>\n",
       "      <td>131</td>\n",
       "      <td>January</td>\n",
       "    </tr>\n",
       "    <tr>\n",
       "      <th>2</th>\n",
       "      <td>2011-01-03</td>\n",
       "      <td>springer</td>\n",
       "      <td>Cerah</td>\n",
       "      <td>Tidak Libur</td>\n",
       "      <td>Senin</td>\n",
       "      <td>Hari Kerja</td>\n",
       "      <td>casual</td>\n",
       "      <td>120</td>\n",
       "      <td>January</td>\n",
       "    </tr>\n",
       "    <tr>\n",
       "      <th>3</th>\n",
       "      <td>2011-01-04</td>\n",
       "      <td>springer</td>\n",
       "      <td>Cerah</td>\n",
       "      <td>Tidak Libur</td>\n",
       "      <td>Selasa</td>\n",
       "      <td>Hari Kerja</td>\n",
       "      <td>casual</td>\n",
       "      <td>108</td>\n",
       "      <td>January</td>\n",
       "    </tr>\n",
       "    <tr>\n",
       "      <th>4</th>\n",
       "      <td>2011-01-05</td>\n",
       "      <td>springer</td>\n",
       "      <td>Cerah</td>\n",
       "      <td>Tidak Libur</td>\n",
       "      <td>Rabu</td>\n",
       "      <td>Hari Kerja</td>\n",
       "      <td>casual</td>\n",
       "      <td>82</td>\n",
       "      <td>January</td>\n",
       "    </tr>\n",
       "    <tr>\n",
       "      <th>5</th>\n",
       "      <td>2011-01-06</td>\n",
       "      <td>springer</td>\n",
       "      <td>Cerah</td>\n",
       "      <td>Tidak Libur</td>\n",
       "      <td>Kamis</td>\n",
       "      <td>Hari Kerja</td>\n",
       "      <td>casual</td>\n",
       "      <td>88</td>\n",
       "      <td>January</td>\n",
       "    </tr>\n",
       "    <tr>\n",
       "      <th>6</th>\n",
       "      <td>2011-01-07</td>\n",
       "      <td>springer</td>\n",
       "      <td>Berkabut</td>\n",
       "      <td>Tidak Libur</td>\n",
       "      <td>Jum'at</td>\n",
       "      <td>Hari Kerja</td>\n",
       "      <td>casual</td>\n",
       "      <td>148</td>\n",
       "      <td>January</td>\n",
       "    </tr>\n",
       "    <tr>\n",
       "      <th>7</th>\n",
       "      <td>2011-01-08</td>\n",
       "      <td>springer</td>\n",
       "      <td>Berkabut</td>\n",
       "      <td>Tidak Libur</td>\n",
       "      <td>Sabtu</td>\n",
       "      <td>Bukan Hari Kerja</td>\n",
       "      <td>casual</td>\n",
       "      <td>68</td>\n",
       "      <td>January</td>\n",
       "    </tr>\n",
       "    <tr>\n",
       "      <th>8</th>\n",
       "      <td>2011-01-09</td>\n",
       "      <td>springer</td>\n",
       "      <td>Cerah</td>\n",
       "      <td>Tidak Libur</td>\n",
       "      <td>Minggu</td>\n",
       "      <td>Bukan Hari Kerja</td>\n",
       "      <td>casual</td>\n",
       "      <td>54</td>\n",
       "      <td>January</td>\n",
       "    </tr>\n",
       "    <tr>\n",
       "      <th>9</th>\n",
       "      <td>2011-01-10</td>\n",
       "      <td>springer</td>\n",
       "      <td>Cerah</td>\n",
       "      <td>Tidak Libur</td>\n",
       "      <td>Senin</td>\n",
       "      <td>Hari Kerja</td>\n",
       "      <td>casual</td>\n",
       "      <td>41</td>\n",
       "      <td>January</td>\n",
       "    </tr>\n",
       "  </tbody>\n",
       "</table>\n",
       "</div>"
      ],
      "text/plain": [
       "      dteday    season weathersit      holiday weekday        workingday  \\\n",
       "0 2011-01-01  springer   Berkabut  Tidak Libur   Sabtu  Bukan Hari Kerja   \n",
       "1 2011-01-02  springer   Berkabut  Tidak Libur  Minggu  Bukan Hari Kerja   \n",
       "2 2011-01-03  springer      Cerah  Tidak Libur   Senin        Hari Kerja   \n",
       "3 2011-01-04  springer      Cerah  Tidak Libur  Selasa        Hari Kerja   \n",
       "4 2011-01-05  springer      Cerah  Tidak Libur    Rabu        Hari Kerja   \n",
       "5 2011-01-06  springer      Cerah  Tidak Libur   Kamis        Hari Kerja   \n",
       "6 2011-01-07  springer   Berkabut  Tidak Libur  Jum'at        Hari Kerja   \n",
       "7 2011-01-08  springer   Berkabut  Tidak Libur   Sabtu  Bukan Hari Kerja   \n",
       "8 2011-01-09  springer      Cerah  Tidak Libur  Minggu  Bukan Hari Kerja   \n",
       "9 2011-01-10  springer      Cerah  Tidak Libur   Senin        Hari Kerja   \n",
       "\n",
       "  variable  value    month  \n",
       "0   casual    331  January  \n",
       "1   casual    131  January  \n",
       "2   casual    120  January  \n",
       "3   casual    108  January  \n",
       "4   casual     82  January  \n",
       "5   casual     88  January  \n",
       "6   casual    148  January  \n",
       "7   casual     68  January  \n",
       "8   casual     54  January  \n",
       "9   casual     41  January  "
      ]
     },
     "execution_count": 142,
     "metadata": {},
     "output_type": "execute_result"
    }
   ],
   "source": [
    "day_transformed.head(10)"
   ]
  },
  {
   "cell_type": "code",
   "execution_count": null,
   "metadata": {},
   "outputs": [
    {
     "data": {
      "text/plain": [
       "<Axes: xlabel='season', ylabel='value'>"
      ]
     },
     "execution_count": 132,
     "metadata": {},
     "output_type": "execute_result"
    },
    {
     "data": {
      "image/png": "[encoded data removed]",
      "text/plain": [
       "<Figure size 640x480 with 1 Axes>"
      ]
     },
     "metadata": {},
     "output_type": "display_data"
    }
   ],
   "source": [
    "sns.barplot(day_transformed, x=\"season\", y=\"value\", hue=\"variable\",errorbar=None)"
   ]
  },
  {
   "cell_type": "code",
   "execution_count": null,
   "metadata": {},
   "outputs": [
    {
     "data": {
      "text/plain": [
       "<Axes: xlabel='weathersit', ylabel='value'>"
      ]
     },
     "execution_count": 133,
     "metadata": {},
     "output_type": "execute_result"
    },
    {
     "data": {
      "image/png": "[encoded data removed]",
      "text/plain": [
       "<Figure size 640x480 with 1 Axes>"
      ]
     },
     "metadata": {},
     "output_type": "display_data"
    }
   ],
   "source": [
    "sns.barplot(day_transformed, x=\"weathersit\", y=\"value\", hue=\"variable\", errorbar=None)"
   ]
  },
  {
   "cell_type": "code",
   "execution_count": null,
   "metadata": {},
   "outputs": [
    {
     "data": {
      "text/plain": [
       "<Axes: xlabel='month', ylabel='value'>"
      ]
     },
     "execution_count": 138,
     "metadata": {},
     "output_type": "execute_result"
    },
    {
     "data": {
      "image/png": "[encoded data removed]",
      "text/plain": [
       "<Figure size 640x480 with 1 Axes>"
      ]
     },
     "metadata": {},
     "output_type": "display_data"
    }
   ],
   "source": [
    "plt.xticks(rotation=45) \n",
    "sns.barplot(data=day_transformed, x=\"month\", y=\"value\", errorbar=None)\n"
   ]
  },
  {
   "cell_type": "code",
   "execution_count": null,
   "metadata": {},
   "outputs": [
    {
     "data": {
      "text/plain": [
       "<Axes: xlabel='weekday', ylabel='value'>"
      ]
     },
     "execution_count": 148,
     "metadata": {},
     "output_type": "execute_result"
    },
    {
     "data": {
      "image/png": "[encoded data removed]",
      "text/plain": [
       "<Figure size 640x480 with 1 Axes>"
      ]
     },
     "metadata": {},
     "output_type": "display_data"
    }
   ],
   "source": [
    "plt.xticks(rotation=45) \n",
    "sns.barplot(day_transformed, x=\"weekday\", y=\"value\", hue=\"variable\", errorbar=None)"
   ]
  },
  {
   "cell_type": "code",
   "execution_count": null,
   "metadata": {},
   "outputs": [
    {
     "data": {
      "text/plain": [
       "<Axes: xlabel='holiday', ylabel='value'>"
      ]
     },
     "execution_count": 149,
     "metadata": {},
     "output_type": "execute_result"
    },
    {
     "data": {
      "image/png": "[encoded data removed]",
      "text/plain": [
       "<Figure size 640x480 with 1 Axes>"
      ]
     },
     "metadata": {},
     "output_type": "display_data"
    }
   ],
   "source": [
    "sns.barplot(day_transformed, x=\"holiday\", y=\"value\", hue=\"variable\", errorbar=None)"
   ]
  },
  {
   "cell_type": "code",
   "execution_count": null,
   "metadata": {},
   "outputs": [
    {
     "data": {
      "text/plain": [
       "<Axes: xlabel='workingday', ylabel='value'>"
      ]
     },
     "execution_count": 150,
     "metadata": {},
     "output_type": "execute_result"
    },
    {
     "data": {
      "image/png": "[encoded data removed]",
      "text/plain": [
       "<Figure size 640x480 with 1 Axes>"
      ]
     },
     "metadata": {},
     "output_type": "display_data"
    }
   ],
   "source": [
    "sns.barplot(day_transformed, x=\"workingday\", y=\"value\", hue=\"variable\", errorbar=None)"
   ]
  },
  {
   "cell_type": "markdown",
   "metadata": {
    "id": "_0-36BDLklRg"
   },
   "source": [
    "**Insight:**\n",
    "- xxx\n",
    "- xxx"
   ]
  },
  {
   "cell_type": "markdown",
   "metadata": {
    "id": "9y4VUsmcYNZ5"
   },
   "source": [
    "## Analisis Lanjutan (Opsional)"
   ]
  },
  {
   "cell_type": "code",
   "execution_count": null,
   "metadata": {
    "id": "iWhnzsJGYUCO"
   },
   "outputs": [],
   "source": [
    "hour[\"hr_group\"] = hour.hr.apply(lambda x: \"Pagi\" if (x >= 4 and x <=10) \n",
    "                                 else (\"Siang\" if (x >= 11 and x <= 14) \n",
    "                                       else (\"Sore\" if (x >= 15 and x <= 18)\n",
    "                                             else (\"Malam\" if (x >= 19)\n",
    "                                                   else \"Dini hari\"))))"
   ]
  },
  {
   "cell_type": "markdown",
   "metadata": {},
   "source": [
    "MELAKUKAN PENGELOMPOKKAN JAM PENYEWAAN BERDASARKAN 5 KATEGORI YAITU PAGI, SIANG, SORE, MALAM, DAN DINI HARI"
   ]
  },
  {
   "cell_type": "code",
   "execution_count": null,
   "metadata": {},
   "outputs": [
    {
     "data": {
      "text/plain": [
       "hr_group\n",
       "Sore         1057529\n",
       "Pagi          774688\n",
       "Siang         696305\n",
       "Malam         676337\n",
       "Dini hari      87820\n",
       "Name: cnt, dtype: int64"
      ]
     },
     "execution_count": 156,
     "metadata": {},
     "output_type": "execute_result"
    }
   ],
   "source": [
    "hour.groupby(by=\"hr_group\").cnt.sum().sort_values(ascending=False)"
   ]
  },
  {
   "cell_type": "code",
   "execution_count": null,
   "metadata": {},
   "outputs": [],
   "source": [
    "hour_transformed = hour.melt(id_vars=['dteday','hr_group'], value_vars=['casual','registered'])"
   ]
  },
  {
   "cell_type": "code",
   "execution_count": null,
   "metadata": {},
   "outputs": [
    {
     "data": {
      "text/plain": [
       "<Axes: xlabel='hr_group', ylabel='value'>"
      ]
     },
     "execution_count": 157,
     "metadata": {},
     "output_type": "execute_result"
    },
    {
     "data": {
      "image/png": "[encoded data removed]",
      "text/plain": [
       "<Figure size 640x480 with 1 Axes>"
      ]
     },
     "metadata": {},
     "output_type": "display_data"
    }
   ],
   "source": [
    "sns.barplot(hour_transformed, x=\"hr_group\", y=\"value\", hue=\"variable\", errorbar=None)"
   ]
  },
  {
   "cell_type": "markdown",
   "metadata": {
    "id": "_WeHlCeX8DC2"
   },
   "source": [
    "## Conclusion"
   ]
  },
  {
   "cell_type": "markdown",
   "metadata": {
    "id": "ZTcyR48Y8DC2"
   },
   "source": [
    "- Conclution pertanyaan 1\n",
    "- Conclution pertanyaan 2"
   ]
  }
 ],
 "metadata": {
  "colab": {
   "provenance": []
  },
  "kernelspec": {
   "display_name": "Python 3",
   "language": "python",
   "name": "python3"
  },
  "language_info": {
   "codemirror_mode": {
    "name": "ipython",
    "version": 3
   },
   "file_extension": ".py",
   "mimetype": "text/x-python",
   "name": "python",
   "nbconvert_exporter": "python",
   "pygments_lexer": "ipython3",
   "version": "3.13.0"
  },
  "orig_nbformat": 4,
  "vscode": {
   "interpreter": {
    "hash": "972b3bf27e332e87b5379f2791f6ef9dfc79c71018c370b0d7423235e20fe4d7"
   }
  }
 },
 "nbformat": 4,
 "nbformat_minor": 0
}
